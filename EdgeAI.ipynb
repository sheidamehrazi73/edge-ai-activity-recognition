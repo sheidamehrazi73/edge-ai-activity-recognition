{
 "cells": [
  {
   "cell_type": "code",
   "execution_count": 1,
   "id": "9dd38c8e",
   "metadata": {},
   "outputs": [],
   "source": [
    "import pandas as pd\n",
    "import numpy as np\n",
    "import seaborn as sns\n",
    "import matplotlib.pyplot as plt\n",
    "from sklearn.utils import shuffle\n",
    "from sklearn.preprocessing import LabelEncoder, StandardScaler\n",
    "from sklearn.model_selection import train_test_split\n",
    "\n"
   ]
  },
  {
   "cell_type": "code",
   "execution_count": 2,
   "id": "7144e5b4",
   "metadata": {},
   "outputs": [
    {
     "data": {
      "text/html": [
       "<div>\n",
       "<style scoped>\n",
       "    .dataframe tbody tr th:only-of-type {\n",
       "        vertical-align: middle;\n",
       "    }\n",
       "\n",
       "    .dataframe tbody tr th {\n",
       "        vertical-align: top;\n",
       "    }\n",
       "\n",
       "    .dataframe thead th {\n",
       "        text-align: right;\n",
       "    }\n",
       "</style>\n",
       "<table border=\"1\" class=\"dataframe\">\n",
       "  <thead>\n",
       "    <tr style=\"text-align: right;\">\n",
       "      <th></th>\n",
       "      <th>user</th>\n",
       "      <th>activity</th>\n",
       "      <th>timestamp</th>\n",
       "      <th>x</th>\n",
       "      <th>y</th>\n",
       "      <th>z</th>\n",
       "    </tr>\n",
       "  </thead>\n",
       "  <tbody>\n",
       "    <tr>\n",
       "      <th>0</th>\n",
       "      <td>33</td>\n",
       "      <td>Jogging</td>\n",
       "      <td>49105962326000</td>\n",
       "      <td>-0.694638</td>\n",
       "      <td>12.680544</td>\n",
       "      <td>0.503953</td>\n",
       "    </tr>\n",
       "    <tr>\n",
       "      <th>1</th>\n",
       "      <td>33</td>\n",
       "      <td>Jogging</td>\n",
       "      <td>49106062271000</td>\n",
       "      <td>5.012288</td>\n",
       "      <td>11.264028</td>\n",
       "      <td>0.953424</td>\n",
       "    </tr>\n",
       "    <tr>\n",
       "      <th>2</th>\n",
       "      <td>33</td>\n",
       "      <td>Jogging</td>\n",
       "      <td>49106112167000</td>\n",
       "      <td>4.903325</td>\n",
       "      <td>10.882658</td>\n",
       "      <td>-0.081722</td>\n",
       "    </tr>\n",
       "    <tr>\n",
       "      <th>3</th>\n",
       "      <td>33</td>\n",
       "      <td>Jogging</td>\n",
       "      <td>49106222305000</td>\n",
       "      <td>-0.612916</td>\n",
       "      <td>18.496431</td>\n",
       "      <td>3.023717</td>\n",
       "    </tr>\n",
       "    <tr>\n",
       "      <th>4</th>\n",
       "      <td>33</td>\n",
       "      <td>Jogging</td>\n",
       "      <td>49106332290000</td>\n",
       "      <td>-1.184970</td>\n",
       "      <td>12.108489</td>\n",
       "      <td>7.205164</td>\n",
       "    </tr>\n",
       "    <tr>\n",
       "      <th>...</th>\n",
       "      <td>...</td>\n",
       "      <td>...</td>\n",
       "      <td>...</td>\n",
       "      <td>...</td>\n",
       "      <td>...</td>\n",
       "      <td>...</td>\n",
       "    </tr>\n",
       "    <tr>\n",
       "      <th>795</th>\n",
       "      <td>33</td>\n",
       "      <td>Walking</td>\n",
       "      <td>49415992264000</td>\n",
       "      <td>-0.612916</td>\n",
       "      <td>3.568531</td>\n",
       "      <td>-1.797886</td>\n",
       "    </tr>\n",
       "    <tr>\n",
       "      <th>796</th>\n",
       "      <td>33</td>\n",
       "      <td>Walking</td>\n",
       "      <td>49416042129000</td>\n",
       "      <td>-0.803601</td>\n",
       "      <td>8.689782</td>\n",
       "      <td>-0.694638</td>\n",
       "    </tr>\n",
       "    <tr>\n",
       "      <th>797</th>\n",
       "      <td>33</td>\n",
       "      <td>Walking</td>\n",
       "      <td>49416152298000</td>\n",
       "      <td>1.688923</td>\n",
       "      <td>11.264028</td>\n",
       "      <td>-0.422231</td>\n",
       "    </tr>\n",
       "    <tr>\n",
       "      <th>798</th>\n",
       "      <td>33</td>\n",
       "      <td>Walking</td>\n",
       "      <td>49416252273000</td>\n",
       "      <td>1.225831</td>\n",
       "      <td>15.050485</td>\n",
       "      <td>-0.272407</td>\n",
       "    </tr>\n",
       "    <tr>\n",
       "      <th>799</th>\n",
       "      <td>33</td>\n",
       "      <td>Walking</td>\n",
       "      <td>49416362289000</td>\n",
       "      <td>-5.897611</td>\n",
       "      <td>15.513576</td>\n",
       "      <td>1.688923</td>\n",
       "    </tr>\n",
       "  </tbody>\n",
       "</table>\n",
       "<p>800 rows × 6 columns</p>\n",
       "</div>"
      ],
      "text/plain": [
       "     user activity       timestamp         x          y         z\n",
       "0      33  Jogging  49105962326000 -0.694638  12.680544  0.503953\n",
       "1      33  Jogging  49106062271000  5.012288  11.264028  0.953424\n",
       "2      33  Jogging  49106112167000  4.903325  10.882658 -0.081722\n",
       "3      33  Jogging  49106222305000 -0.612916  18.496431  3.023717\n",
       "4      33  Jogging  49106332290000 -1.184970  12.108489  7.205164\n",
       "..    ...      ...             ...       ...        ...       ...\n",
       "795    33  Walking  49415992264000 -0.612916   3.568531 -1.797886\n",
       "796    33  Walking  49416042129000 -0.803601   8.689782 -0.694638\n",
       "797    33  Walking  49416152298000  1.688923  11.264028 -0.422231\n",
       "798    33  Walking  49416252273000  1.225831  15.050485 -0.272407\n",
       "799    33  Walking  49416362289000 -5.897611  15.513576  1.688923\n",
       "\n",
       "[800 rows x 6 columns]"
      ]
     },
     "execution_count": 2,
     "metadata": {},
     "output_type": "execute_result"
    }
   ],
   "source": [
    "data=[]\n",
    "with open(\"E:\\EdgeAi\\WISDM_ar_latest\\WISDM_ar_v1.1\\WISDM_ar_v1.1_raw.txt\",'r')as file:\n",
    "    for line in file:\n",
    "        parts=line.strip().split(',')\n",
    "        if len(parts)==6:\n",
    "            try:\n",
    "                user=int(parts[0])\n",
    "                activity=parts[1]\n",
    "                timestamp=int(parts[2])\n",
    "                x=float(parts[3])\n",
    "                y=float(parts[4])\n",
    "                z_str = parts[5].replace(';', '')    \n",
    "                z = float(z_str)\n",
    "                data.append([user, activity, timestamp, x, y, z])\n",
    "            except:\n",
    "                continue      \n",
    "\n",
    "df=pd.DataFrame(data, columns=['user', 'activity', 'timestamp', 'x', 'y', 'z'])\n",
    "\n",
    "df.to_csv('wisdm_cleaned.csv', index=False)\n",
    "df.head(800)\n",
    "\n",
    "    \n",
    "      \n",
    " "
   ]
  },
  {
   "cell_type": "code",
   "execution_count": 3,
   "id": "8d110090",
   "metadata": {},
   "outputs": [
    {
     "name": "stdout",
     "output_type": "stream",
     "text": [
      "Unique Activities: ['Jogging' 'Walking' 'Upstairs' 'Downstairs' 'Sitting' 'Standing']\n",
      "Dataset Shape: (1086465, 6)\n"
     ]
    },
    {
     "data": {
      "image/png": "[encoded data removed]",
      "text/plain": [
       "<Figure size 432x288 with 1 Axes>"
      ]
     },
     "metadata": {
      "needs_background": "light"
     },
     "output_type": "display_data"
    }
   ],
   "source": [
    "\n",
    "print(\"Unique Activities:\", df['activity'].unique())\n",
    "print(\"Dataset Shape:\", df.shape)\n",
    "\n",
    "sns.countplot(data=df, x='activity')\n",
    "plt.xticks(rotation=45)\n",
    "plt.title(\"Distribution of Activity Labels\")\n",
    "plt.show()\n"
   ]
  },
  {
   "cell_type": "code",
   "execution_count": 4,
   "id": "3a1ad3b2",
   "metadata": {},
   "outputs": [],
   "source": [
    "#add Magnitude feature\n",
    "df['magnitude'] = np.sqrt(df['x']**2 + df['y']**2 + df['z']**2)\n"
   ]
  },
  {
   "cell_type": "code",
   "execution_count": 5,
   "id": "d75759d2",
   "metadata": {},
   "outputs": [
    {
     "data": {
      "text/html": [
       "<div>\n",
       "<style scoped>\n",
       "    .dataframe tbody tr th:only-of-type {\n",
       "        vertical-align: middle;\n",
       "    }\n",
       "\n",
       "    .dataframe tbody tr th {\n",
       "        vertical-align: top;\n",
       "    }\n",
       "\n",
       "    .dataframe thead th {\n",
       "        text-align: right;\n",
       "    }\n",
       "</style>\n",
       "<table border=\"1\" class=\"dataframe\">\n",
       "  <thead>\n",
       "    <tr style=\"text-align: right;\">\n",
       "      <th></th>\n",
       "      <th>user</th>\n",
       "      <th>activity</th>\n",
       "      <th>timestamp</th>\n",
       "      <th>x</th>\n",
       "      <th>y</th>\n",
       "      <th>z</th>\n",
       "      <th>magnitude</th>\n",
       "    </tr>\n",
       "  </thead>\n",
       "  <tbody>\n",
       "    <tr>\n",
       "      <th>0</th>\n",
       "      <td>33</td>\n",
       "      <td>Jogging</td>\n",
       "      <td>49105962326000</td>\n",
       "      <td>-0.694638</td>\n",
       "      <td>12.680544</td>\n",
       "      <td>0.503953</td>\n",
       "      <td>12.709551</td>\n",
       "    </tr>\n",
       "    <tr>\n",
       "      <th>1</th>\n",
       "      <td>33</td>\n",
       "      <td>Jogging</td>\n",
       "      <td>49106062271000</td>\n",
       "      <td>5.012288</td>\n",
       "      <td>11.264028</td>\n",
       "      <td>0.953424</td>\n",
       "      <td>12.365693</td>\n",
       "    </tr>\n",
       "    <tr>\n",
       "      <th>2</th>\n",
       "      <td>33</td>\n",
       "      <td>Jogging</td>\n",
       "      <td>49106112167000</td>\n",
       "      <td>4.903325</td>\n",
       "      <td>10.882658</td>\n",
       "      <td>-0.081722</td>\n",
       "      <td>11.936562</td>\n",
       "    </tr>\n",
       "    <tr>\n",
       "      <th>3</th>\n",
       "      <td>33</td>\n",
       "      <td>Jogging</td>\n",
       "      <td>49106222305000</td>\n",
       "      <td>-0.612916</td>\n",
       "      <td>18.496431</td>\n",
       "      <td>3.023717</td>\n",
       "      <td>18.751973</td>\n",
       "    </tr>\n",
       "    <tr>\n",
       "      <th>4</th>\n",
       "      <td>33</td>\n",
       "      <td>Jogging</td>\n",
       "      <td>49106332290000</td>\n",
       "      <td>-1.184970</td>\n",
       "      <td>12.108489</td>\n",
       "      <td>7.205164</td>\n",
       "      <td>14.139804</td>\n",
       "    </tr>\n",
       "    <tr>\n",
       "      <th>...</th>\n",
       "      <td>...</td>\n",
       "      <td>...</td>\n",
       "      <td>...</td>\n",
       "      <td>...</td>\n",
       "      <td>...</td>\n",
       "      <td>...</td>\n",
       "      <td>...</td>\n",
       "    </tr>\n",
       "    <tr>\n",
       "      <th>1086460</th>\n",
       "      <td>19</td>\n",
       "      <td>Sitting</td>\n",
       "      <td>131623331483000</td>\n",
       "      <td>9.000000</td>\n",
       "      <td>-1.570000</td>\n",
       "      <td>1.690000</td>\n",
       "      <td>9.290910</td>\n",
       "    </tr>\n",
       "    <tr>\n",
       "      <th>1086461</th>\n",
       "      <td>19</td>\n",
       "      <td>Sitting</td>\n",
       "      <td>131623371431000</td>\n",
       "      <td>9.040000</td>\n",
       "      <td>-1.460000</td>\n",
       "      <td>1.730000</td>\n",
       "      <td>9.319125</td>\n",
       "    </tr>\n",
       "    <tr>\n",
       "      <th>1086462</th>\n",
       "      <td>19</td>\n",
       "      <td>Sitting</td>\n",
       "      <td>131623411592000</td>\n",
       "      <td>9.080000</td>\n",
       "      <td>-1.380000</td>\n",
       "      <td>1.690000</td>\n",
       "      <td>9.338463</td>\n",
       "    </tr>\n",
       "    <tr>\n",
       "      <th>1086463</th>\n",
       "      <td>19</td>\n",
       "      <td>Sitting</td>\n",
       "      <td>131623491487000</td>\n",
       "      <td>9.000000</td>\n",
       "      <td>-1.460000</td>\n",
       "      <td>1.730000</td>\n",
       "      <td>9.280329</td>\n",
       "    </tr>\n",
       "    <tr>\n",
       "      <th>1086464</th>\n",
       "      <td>19</td>\n",
       "      <td>Sitting</td>\n",
       "      <td>131623531465000</td>\n",
       "      <td>8.880000</td>\n",
       "      <td>-1.330000</td>\n",
       "      <td>1.610000</td>\n",
       "      <td>9.122248</td>\n",
       "    </tr>\n",
       "  </tbody>\n",
       "</table>\n",
       "<p>1086465 rows × 7 columns</p>\n",
       "</div>"
      ],
      "text/plain": [
       "         user activity        timestamp         x          y         z  \\\n",
       "0          33  Jogging   49105962326000 -0.694638  12.680544  0.503953   \n",
       "1          33  Jogging   49106062271000  5.012288  11.264028  0.953424   \n",
       "2          33  Jogging   49106112167000  4.903325  10.882658 -0.081722   \n",
       "3          33  Jogging   49106222305000 -0.612916  18.496431  3.023717   \n",
       "4          33  Jogging   49106332290000 -1.184970  12.108489  7.205164   \n",
       "...       ...      ...              ...       ...        ...       ...   \n",
       "1086460    19  Sitting  131623331483000  9.000000  -1.570000  1.690000   \n",
       "1086461    19  Sitting  131623371431000  9.040000  -1.460000  1.730000   \n",
       "1086462    19  Sitting  131623411592000  9.080000  -1.380000  1.690000   \n",
       "1086463    19  Sitting  131623491487000  9.000000  -1.460000  1.730000   \n",
       "1086464    19  Sitting  131623531465000  8.880000  -1.330000  1.610000   \n",
       "\n",
       "         magnitude  \n",
       "0        12.709551  \n",
       "1        12.365693  \n",
       "2        11.936562  \n",
       "3        18.751973  \n",
       "4        14.139804  \n",
       "...            ...  \n",
       "1086460   9.290910  \n",
       "1086461   9.319125  \n",
       "1086462   9.338463  \n",
       "1086463   9.280329  \n",
       "1086464   9.122248  \n",
       "\n",
       "[1086465 rows x 7 columns]"
      ]
     },
     "execution_count": 5,
     "metadata": {},
     "output_type": "execute_result"
    }
   ],
   "source": [
    "df"
   ]
  },
  {
   "cell_type": "code",
   "execution_count": 6,
   "id": "c260d756",
   "metadata": {},
   "outputs": [
    {
     "name": "stdout",
     "output_type": "stream",
     "text": [
      "Activity Labels: {0: 'Downstairs', 1: 'Jogging', 2: 'Sitting', 3: 'Standing', 4: 'Upstairs', 5: 'Walking'}\n"
     ]
    }
   ],
   "source": [
    "#Convert activity to activity_code(string to int)\n",
 
    "\n",
    "le = LabelEncoder()\n",
    "df['activity_code'] = le.fit_transform(df['activity'])\n",
    "\n",
    "activity_labels = dict(enumerate(le.classes_))\n",
    "\n",
    "print(\"Activity Labels:\", activity_labels)\n"
   ]
  },
  {
   "cell_type": "code",
   "execution_count": 7,
   "id": "7baed103",
   "metadata": {},
   "outputs": [
    {
     "name": "stdout",
     "output_type": "stream",
     "text": [
      "Segments shape: (53188, 60, 4)\n",
      "Labels shape: (53188,)\n"
     ]
    }
   ],
   "source": [
    "\n",
    "window_size = 60 \n",
    "step_size = 20\n",
    "\n",
    "segments = []\n",
    "labels = []\n",
    "\n",
    "for start in range(0, len(df) - window_size, step_size):\n",
    "    end = start + window_size\n",
    "    segment = df.iloc[start:end]\n",
    "    if len(segment['activity_code'].unique()) == 1:\n",
    "        x = segment['x'].values\n",
    "        y = segment['y'].values\n",
    "        z = segment['z'].values\n",
    "        magnitude = segment['magnitude'].values\n",
    "\n",
    "        segments.append([x, y, z, magnitude])\n",
    "        labels.append(segment['activity_code'].iloc[0])\n",
    "\n",
    "segments = np.asarray(segments)\n",
    "labels = np.asarray(labels)\n",
    "\n",
    "X = np.transpose(segments, (0, 2, 1))  # (num_samples, 60, 4)\n",
    "y = labels\n",
    "print(f\"Segments shape: {X.shape}\")\n",
    "print(f\"Labels shape: {y.shape}\")"
   ]
  },
  {
   "cell_type": "code",
   "execution_count": 8,
   "id": "15ce29f5",
   "metadata": {},
   "outputs": [],
   "source": [
    "scaler = StandardScaler()\n",
    "num_samples, timesteps, num_features = X.shape\n",
    "\n",
    "X_reshaped = X.reshape(-1, num_features)\n",
    "X_scaled = scaler.fit_transform(X_reshaped)\n",
    "X_scaled = X_scaled.reshape(num_samples, timesteps, num_features)\n"
   ]
  },
  {
   "cell_type": "code",
   "execution_count": 9,
   "id": "4f59c01a",
   "metadata": {},
   "outputs": [],
   "source": [
    "import tensorflow as tf\n",
    "from tensorflow.keras.models import Sequential\n",
    "from tensorflow.keras.layers import Conv1D, MaxPooling1D, Dropout, Flatten, Dense\n",
    "from tensorflow.keras.utils import to_categorical\n"
   ]
  },
  {
   "cell_type": "code",
   "execution_count": 10,
   "id": "b61e702d",
   "metadata": {},
   "outputs": [],
   "source": [
    "from sklearn.model_selection import train_test_split\n",
    "\n",
    "X_train, X_test, y_train, y_test = train_test_split(\n",
    "    X_scaled, y, test_size=0.2, random_state=42, stratify=y\n",
    ")\n"
   ]
  },
  {
   "cell_type": "code",
   "execution_count": 11,
   "id": "1a51f768",
   "metadata": {},
   "outputs": [],
   "source": [
    "num_classes = len(np.unique(y_train))\n",
    "\n",
    "y_train_cat = to_categorical(y_train, num_classes)\n",
    "y_test_cat = to_categorical(y_test, num_classes)\n"
   ]
  },
  {
   "cell_type": "code",
   "execution_count": 12,
   "id": "f1d2431c",
   "metadata": {},
   "outputs": [
    {
     "name": "stderr",
     "output_type": "stream",
     "text": [
      "C:\\Users\\sheydameh\\AppData\\Roaming\\Python\\Python39\\site-packages\\keras\\src\\layers\\convolutional\\base_conv.py:107: UserWarning: Do not pass an `input_shape`/`input_dim` argument to a layer. When using Sequential models, prefer using an `Input(shape)` object as the first layer in the model instead.\n",
      "  super().__init__(activity_regularizer=activity_regularizer, **kwargs)\n"
     ]
    }
   ],
   "source": [
    "model = Sequential()\n",
    "\n",
    "model.add(Conv1D(filters=64, kernel_size=3, activation='relu', input_shape=(X_train.shape[1], X_train.shape[2])))\n",
    "model.add(MaxPooling1D(pool_size=2))\n",
    "model.add(Dropout(0.5))\n",
    "\n",
    "# Flatten و Dense\n",
    "model.add(Flatten())\n",
    "model.add(Dense(100, activation='relu'))\n",
    "model.add(Dropout(0.5))\n",
    "model.add(Dense(num_classes, activation='softmax'))\n"
   ]
  },
  {
   "cell_type": "code",
   "execution_count": 13,
   "id": "3e26014a",
   "metadata": {},
   "outputs": [],
   "source": [
    "model.compile(optimizer='adam',\n",
    "              loss='categorical_crossentropy',\n",
    "              metrics=['accuracy'])\n"
   ]
  },
  {
   "cell_type": "code",
   "execution_count": 14,
   "id": "739f9f23",
   "metadata": {},
   "outputs": [
    {
     "name": "stdout",
     "output_type": "stream",
     "text": [
      "Epoch 1/100\n",
      "\u001b[1m665/665\u001b[0m \u001b[32m━━━━━━━━━━━━━━━━━━━━\u001b[0m\u001b[37m\u001b[0m \u001b[1m12s\u001b[0m 12ms/step - accuracy: 0.7191 - loss: 0.7844 - val_accuracy: 0.8484 - val_loss: 0.3572\n",
      "Epoch 2/100\n",
      "\u001b[1m665/665\u001b[0m \u001b[32m━━━━━━━━━━━━━━━━━━━━\u001b[0m\u001b[37m\u001b[0m \u001b[1m6s\u001b[0m 9ms/step - accuracy: 0.8446 - loss: 0.4154 - val_accuracy: 0.8870 - val_loss: 0.2817\n",
      "Epoch 3/100\n",
      "\u001b[1m665/665\u001b[0m \u001b[32m━━━━━━━━━━━━━━━━━━━━\u001b[0m\u001b[37m\u001b[0m \u001b[1m6s\u001b[0m 9ms/step - accuracy: 0.8660 - loss: 0.3514 - val_accuracy: 0.9138 - val_loss: 0.2303\n",
      "Epoch 4/100\n",
      "\u001b[1m665/665\u001b[0m \u001b[32m━━━━━━━━━━━━━━━━━━━━\u001b[0m\u001b[37m\u001b[0m \u001b[1m6s\u001b[0m 10ms/step - accuracy: 0.8832 - loss: 0.3207 - val_accuracy: 0.9316 - val_loss: 0.2027\n",
      "Epoch 5/100\n",
      "\u001b[1m665/665\u001b[0m \u001b[32m━━━━━━━━━━━━━━━━━━━━\u001b[0m\u001b[37m\u001b[0m \u001b[1m6s\u001b[0m 9ms/step - accuracy: 0.8954 - loss: 0.2771 - val_accuracy: 0.9353 - val_loss: 0.1877\n",
      "Epoch 6/100\n",
      "\u001b[1m665/665\u001b[0m \u001b[32m━━━━━━━━━━━━━━━━━━━━\u001b[0m\u001b[37m\u001b[0m \u001b[1m6s\u001b[0m 8ms/step - accuracy: 0.9028 - loss: 0.2685 - val_accuracy: 0.9422 - val_loss: 0.1744\n",
      "Epoch 7/100\n",
      "\u001b[1m665/665\u001b[0m \u001b[32m━━━━━━━━━━━━━━━━━━━━\u001b[0m\u001b[37m\u001b[0m \u001b[1m6s\u001b[0m 9ms/step - accuracy: 0.9114 - loss: 0.2407 - val_accuracy: 0.9482 - val_loss: 0.1575\n",
      "Epoch 8/100\n",
      "\u001b[1m665/665\u001b[0m \u001b[32m━━━━━━━━━━━━━━━━━━━━\u001b[0m\u001b[37m\u001b[0m \u001b[1m6s\u001b[0m 9ms/step - accuracy: 0.9113 - loss: 0.2370 - val_accuracy: 0.9467 - val_loss: 0.1563\n",
      "Epoch 9/100\n",
      "\u001b[1m665/665\u001b[0m \u001b[32m━━━━━━━━━━━━━━━━━━━━\u001b[0m\u001b[37m\u001b[0m \u001b[1m6s\u001b[0m 9ms/step - accuracy: 0.9171 - loss: 0.2283 - val_accuracy: 0.9488 - val_loss: 0.1547\n",
      "Epoch 10/100\n",
      "\u001b[1m665/665\u001b[0m \u001b[32m━━━━━━━━━━━━━━━━━━━━\u001b[0m\u001b[37m\u001b[0m \u001b[1m6s\u001b[0m 9ms/step - accuracy: 0.9222 - loss: 0.2207 - val_accuracy: 0.9509 - val_loss: 0.1446\n",
      "Epoch 11/100\n",
      "\u001b[1m665/665\u001b[0m \u001b[32m━━━━━━━━━━━━━━━━━━━━\u001b[0m\u001b[37m\u001b[0m \u001b[1m6s\u001b[0m 9ms/step - accuracy: 0.9239 - loss: 0.2050 - val_accuracy: 0.9472 - val_loss: 0.1551\n",
      "Epoch 12/100\n",
      "\u001b[1m665/665\u001b[0m \u001b[32m━━━━━━━━━━━━━━━━━━━━\u001b[0m\u001b[37m\u001b[0m \u001b[1m6s\u001b[0m 9ms/step - accuracy: 0.9280 - loss: 0.2024 - val_accuracy: 0.9550 - val_loss: 0.1340\n",
      "Epoch 13/100\n",
      "\u001b[1m665/665\u001b[0m \u001b[32m━━━━━━━━━━━━━━━━━━━━\u001b[0m\u001b[37m\u001b[0m \u001b[1m6s\u001b[0m 10ms/step - accuracy: 0.9302 - loss: 0.1875 - val_accuracy: 0.9599 - val_loss: 0.1216\n",
      "Epoch 14/100\n",
      "\u001b[1m665/665\u001b[0m \u001b[32m━━━━━━━━━━━━━━━━━━━━\u001b[0m\u001b[37m\u001b[0m \u001b[1m6s\u001b[0m 10ms/step - accuracy: 0.9285 - loss: 0.1938 - val_accuracy: 0.9594 - val_loss: 0.1244\n",
      "Epoch 15/100\n",
      "\u001b[1m665/665\u001b[0m \u001b[32m━━━━━━━━━━━━━━━━━━━━\u001b[0m\u001b[37m\u001b[0m \u001b[1m6s\u001b[0m 10ms/step - accuracy: 0.9317 - loss: 0.1876 - val_accuracy: 0.9621 - val_loss: 0.1186\n",
      "Epoch 16/100\n",
      "\u001b[1m665/665\u001b[0m \u001b[32m━━━━━━━━━━━━━━━━━━━━\u001b[0m\u001b[37m\u001b[0m \u001b[1m6s\u001b[0m 9ms/step - accuracy: 0.9379 - loss: 0.1745 - val_accuracy: 0.9618 - val_loss: 0.1209\n",
      "Epoch 17/100\n",
      "\u001b[1m665/665\u001b[0m \u001b[32m━━━━━━━━━━━━━━━━━━━━\u001b[0m\u001b[37m\u001b[0m \u001b[1m6s\u001b[0m 9ms/step - accuracy: 0.9359 - loss: 0.1829 - val_accuracy: 0.9611 - val_loss: 0.1191\n",
      "Epoch 18/100\n",
      "\u001b[1m665/665\u001b[0m \u001b[32m━━━━━━━━━━━━━━━━━━━━\u001b[0m\u001b[37m\u001b[0m \u001b[1m6s\u001b[0m 10ms/step - accuracy: 0.9399 - loss: 0.1692 - val_accuracy: 0.9628 - val_loss: 0.1129\n",
      "Epoch 19/100\n",
      "\u001b[1m665/665\u001b[0m \u001b[32m━━━━━━━━━━━━━━━━━━━━\u001b[0m\u001b[37m\u001b[0m \u001b[1m6s\u001b[0m 9ms/step - accuracy: 0.9394 - loss: 0.1639 - val_accuracy: 0.9640 - val_loss: 0.1101\n",
      "Epoch 20/100\n",
      "\u001b[1m665/665\u001b[0m \u001b[32m━━━━━━━━━━━━━━━━━━━━\u001b[0m\u001b[37m\u001b[0m \u001b[1m10s\u001b[0m 9ms/step - accuracy: 0.9398 - loss: 0.1660 - val_accuracy: 0.9645 - val_loss: 0.1074\n",
      "Epoch 21/100\n",
      "\u001b[1m665/665\u001b[0m \u001b[32m━━━━━━━━━━━━━━━━━━━━\u001b[0m\u001b[37m\u001b[0m \u001b[1m6s\u001b[0m 9ms/step - accuracy: 0.9411 - loss: 0.1641 - val_accuracy: 0.9614 - val_loss: 0.1085\n",
      "Epoch 22/100\n",
      "\u001b[1m665/665\u001b[0m \u001b[32m━━━━━━━━━━━━━━━━━━━━\u001b[0m\u001b[37m\u001b[0m \u001b[1m7s\u001b[0m 10ms/step - accuracy: 0.9416 - loss: 0.1618 - val_accuracy: 0.9661 - val_loss: 0.1053\n",
      "Epoch 23/100\n",
      "\u001b[1m665/665\u001b[0m \u001b[32m━━━━━━━━━━━━━━━━━━━━\u001b[0m\u001b[37m\u001b[0m \u001b[1m7s\u001b[0m 11ms/step - accuracy: 0.9407 - loss: 0.1627 - val_accuracy: 0.9629 - val_loss: 0.1130\n",
      "Epoch 24/100\n",
      "\u001b[1m665/665\u001b[0m \u001b[32m━━━━━━━━━━━━━━━━━━━━\u001b[0m\u001b[37m\u001b[0m \u001b[1m7s\u001b[0m 10ms/step - accuracy: 0.9450 - loss: 0.1574 - val_accuracy: 0.9659 - val_loss: 0.1030\n",
      "Epoch 25/100\n",
      "\u001b[1m665/665\u001b[0m \u001b[32m━━━━━━━━━━━━━━━━━━━━\u001b[0m\u001b[37m\u001b[0m \u001b[1m8s\u001b[0m 12ms/step - accuracy: 0.9442 - loss: 0.1489 - val_accuracy: 0.9665 - val_loss: 0.1028\n",
      "Epoch 26/100\n",
      "\u001b[1m665/665\u001b[0m \u001b[32m━━━━━━━━━━━━━━━━━━━━\u001b[0m\u001b[37m\u001b[0m \u001b[1m7s\u001b[0m 10ms/step - accuracy: 0.9434 - loss: 0.1511 - val_accuracy: 0.9671 - val_loss: 0.0996\n",
      "Epoch 27/100\n",
      "\u001b[1m665/665\u001b[0m \u001b[32m━━━━━━━━━━━━━━━━━━━━\u001b[0m\u001b[37m\u001b[0m \u001b[1m7s\u001b[0m 10ms/step - accuracy: 0.9443 - loss: 0.1528 - val_accuracy: 0.9644 - val_loss: 0.1024\n",
      "Epoch 28/100\n",
      "\u001b[1m665/665\u001b[0m \u001b[32m━━━━━━━━━━━━━━━━━━━━\u001b[0m\u001b[37m\u001b[0m \u001b[1m6s\u001b[0m 9ms/step - accuracy: 0.9493 - loss: 0.1446 - val_accuracy: 0.9694 - val_loss: 0.1035\n",
      "Epoch 29/100\n",
      "\u001b[1m665/665\u001b[0m \u001b[32m━━━━━━━━━━━━━━━━━━━━\u001b[0m\u001b[37m\u001b[0m \u001b[1m6s\u001b[0m 9ms/step - accuracy: 0.9432 - loss: 0.1527 - val_accuracy: 0.9644 - val_loss: 0.1029\n",
      "Epoch 30/100\n",
      "\u001b[1m665/665\u001b[0m \u001b[32m━━━━━━━━━━━━━━━━━━━━\u001b[0m\u001b[37m\u001b[0m \u001b[1m6s\u001b[0m 9ms/step - accuracy: 0.9471 - loss: 0.1494 - val_accuracy: 0.9679 - val_loss: 0.0974\n",
      "Epoch 31/100\n",
      "\u001b[1m665/665\u001b[0m \u001b[32m━━━━━━━━━━━━━━━━━━━━\u001b[0m\u001b[37m\u001b[0m \u001b[1m7s\u001b[0m 10ms/step - accuracy: 0.9490 - loss: 0.1438 - val_accuracy: 0.9677 - val_loss: 0.0981\n",
      "Epoch 32/100\n",
      "\u001b[1m665/665\u001b[0m \u001b[32m━━━━━━━━━━━━━━━━━━━━\u001b[0m\u001b[37m\u001b[0m \u001b[1m6s\u001b[0m 10ms/step - accuracy: 0.9494 - loss: 0.1421 - val_accuracy: 0.9679 - val_loss: 0.1000\n",
      "Epoch 33/100\n",
      "\u001b[1m665/665\u001b[0m \u001b[32m━━━━━━━━━━━━━━━━━━━━\u001b[0m\u001b[37m\u001b[0m \u001b[1m5s\u001b[0m 8ms/step - accuracy: 0.9497 - loss: 0.1380 - val_accuracy: 0.9677 - val_loss: 0.1020\n",
      "Epoch 34/100\n",
      "\u001b[1m665/665\u001b[0m \u001b[32m━━━━━━━━━━━━━━━━━━━━\u001b[0m\u001b[37m\u001b[0m \u001b[1m6s\u001b[0m 9ms/step - accuracy: 0.9495 - loss: 0.1436 - val_accuracy: 0.9641 - val_loss: 0.1030\n",
      "Epoch 35/100\n",
      "\u001b[1m665/665\u001b[0m \u001b[32m━━━━━━━━━━━━━━━━━━━━\u001b[0m\u001b[37m\u001b[0m \u001b[1m7s\u001b[0m 10ms/step - accuracy: 0.9531 - loss: 0.1303 - val_accuracy: 0.9685 - val_loss: 0.0910\n",
      "Epoch 36/100\n",
      "\u001b[1m665/665\u001b[0m \u001b[32m━━━━━━━━━━━━━━━━━━━━\u001b[0m\u001b[37m\u001b[0m \u001b[1m7s\u001b[0m 10ms/step - accuracy: 0.9505 - loss: 0.1398 - val_accuracy: 0.9694 - val_loss: 0.0915\n",
      "Epoch 37/100\n",
      "\u001b[1m665/665\u001b[0m \u001b[32m━━━━━━━━━━━━━━━━━━━━\u001b[0m\u001b[37m\u001b[0m \u001b[1m6s\u001b[0m 9ms/step - accuracy: 0.9511 - loss: 0.1372 - val_accuracy: 0.9676 - val_loss: 0.0944\n",
      "Epoch 38/100\n",
      "\u001b[1m665/665\u001b[0m \u001b[32m━━━━━━━━━━━━━━━━━━━━\u001b[0m\u001b[37m\u001b[0m \u001b[1m7s\u001b[0m 10ms/step - accuracy: 0.9529 - loss: 0.1326 - val_accuracy: 0.9675 - val_loss: 0.0986\n",
      "Epoch 39/100\n",
      "\u001b[1m665/665\u001b[0m \u001b[32m━━━━━━━━━━━━━━━━━━━━\u001b[0m\u001b[37m\u001b[0m \u001b[1m10s\u001b[0m 10ms/step - accuracy: 0.9548 - loss: 0.1321 - val_accuracy: 0.9690 - val_loss: 0.0929\n",
      "Epoch 40/100\n",
      "\u001b[1m665/665\u001b[0m \u001b[32m━━━━━━━━━━━━━━━━━━━━\u001b[0m\u001b[37m\u001b[0m \u001b[1m7s\u001b[0m 10ms/step - accuracy: 0.9546 - loss: 0.1265 - val_accuracy: 0.9686 - val_loss: 0.0943\n",
      "Epoch 41/100\n",
      "\u001b[1m665/665\u001b[0m \u001b[32m━━━━━━━━━━━━━━━━━━━━\u001b[0m\u001b[37m\u001b[0m \u001b[1m10s\u001b[0m 9ms/step - accuracy: 0.9548 - loss: 0.1270 - val_accuracy: 0.9707 - val_loss: 0.0915\n",
      "Epoch 42/100\n",
      "\u001b[1m665/665\u001b[0m \u001b[32m━━━━━━━━━━━━━━━━━━━━\u001b[0m\u001b[37m\u001b[0m \u001b[1m7s\u001b[0m 10ms/step - accuracy: 0.9541 - loss: 0.1302 - val_accuracy: 0.9692 - val_loss: 0.0932\n",
      "Epoch 43/100\n",
      "\u001b[1m665/665\u001b[0m \u001b[32m━━━━━━━━━━━━━━━━━━━━\u001b[0m\u001b[37m\u001b[0m \u001b[1m10s\u001b[0m 9ms/step - accuracy: 0.9541 - loss: 0.1266 - val_accuracy: 0.9702 - val_loss: 0.0925\n",
      "Epoch 44/100\n",
      "\u001b[1m665/665\u001b[0m \u001b[32m━━━━━━━━━━━━━━━━━━━━\u001b[0m\u001b[37m\u001b[0m \u001b[1m7s\u001b[0m 10ms/step - accuracy: 0.9539 - loss: 0.1243 - val_accuracy: 0.9710 - val_loss: 0.0917\n",
      "Epoch 45/100\n",
      "\u001b[1m665/665\u001b[0m \u001b[32m━━━━━━━━━━━━━━━━━━━━\u001b[0m\u001b[37m\u001b[0m \u001b[1m10s\u001b[0m 10ms/step - accuracy: 0.9534 - loss: 0.1264 - val_accuracy: 0.9698 - val_loss: 0.0910\n",
      "Epoch 46/100\n",
      "\u001b[1m665/665\u001b[0m \u001b[32m━━━━━━━━━━━━━━━━━━━━\u001b[0m\u001b[37m\u001b[0m \u001b[1m13s\u001b[0m 14ms/step - accuracy: 0.9550 - loss: 0.1273 - val_accuracy: 0.9698 - val_loss: 0.0888\n",
      "Epoch 47/100\n",
      "\u001b[1m665/665\u001b[0m \u001b[32m━━━━━━━━━━━━━━━━━━━━\u001b[0m\u001b[37m\u001b[0m \u001b[1m10s\u001b[0m 13ms/step - accuracy: 0.9563 - loss: 0.1253 - val_accuracy: 0.9703 - val_loss: 0.0884\n",
      "Epoch 48/100\n",
      "\u001b[1m665/665\u001b[0m \u001b[32m━━━━━━━━━━━━━━━━━━━━\u001b[0m\u001b[37m\u001b[0m \u001b[1m9s\u001b[0m 11ms/step - accuracy: 0.9556 - loss: 0.1237 - val_accuracy: 0.9711 - val_loss: 0.0905\n",
      "Epoch 49/100\n",
      "\u001b[1m665/665\u001b[0m \u001b[32m━━━━━━━━━━━━━━━━━━━━\u001b[0m\u001b[37m\u001b[0m \u001b[1m8s\u001b[0m 12ms/step - accuracy: 0.9579 - loss: 0.1198 - val_accuracy: 0.9694 - val_loss: 0.0900\n",
      "Epoch 50/100\n",
      "\u001b[1m665/665\u001b[0m \u001b[32m━━━━━━━━━━━━━━━━━━━━\u001b[0m\u001b[37m\u001b[0m \u001b[1m11s\u001b[0m 12ms/step - accuracy: 0.9562 - loss: 0.1219 - val_accuracy: 0.9708 - val_loss: 0.0888\n",
      "Epoch 51/100\n",
      "\u001b[1m665/665\u001b[0m \u001b[32m━━━━━━━━━━━━━━━━━━━━\u001b[0m\u001b[37m\u001b[0m \u001b[1m11s\u001b[0m 13ms/step - accuracy: 0.9569 - loss: 0.1215 - val_accuracy: 0.9694 - val_loss: 0.0931\n",
      "Epoch 52/100\n",
      "\u001b[1m665/665\u001b[0m \u001b[32m━━━━━━━━━━━━━━━━━━━━\u001b[0m\u001b[37m\u001b[0m \u001b[1m10s\u001b[0m 13ms/step - accuracy: 0.9568 - loss: 0.1176 - val_accuracy: 0.9715 - val_loss: 0.0898\n",
      "Epoch 53/100\n",
      "\u001b[1m665/665\u001b[0m \u001b[32m━━━━━━━━━━━━━━━━━━━━\u001b[0m\u001b[37m\u001b[0m \u001b[1m9s\u001b[0m 13ms/step - accuracy: 0.9562 - loss: 0.1181 - val_accuracy: 0.9700 - val_loss: 0.0931\n",
      "Epoch 54/100\n",
      "\u001b[1m665/665\u001b[0m \u001b[32m━━━━━━━━━━━━━━━━━━━━\u001b[0m\u001b[37m\u001b[0m \u001b[1m9s\u001b[0m 13ms/step - accuracy: 0.9584 - loss: 0.1160 - val_accuracy: 0.9714 - val_loss: 0.0917\n",
      "Epoch 55/100\n",
      "\u001b[1m665/665\u001b[0m \u001b[32m━━━━━━━━━━━━━━━━━━━━\u001b[0m\u001b[37m\u001b[0m \u001b[1m8s\u001b[0m 13ms/step - accuracy: 0.9576 - loss: 0.1193 - val_accuracy: 0.9716 - val_loss: 0.0892\n",
      "Epoch 56/100\n",
      "\u001b[1m665/665\u001b[0m \u001b[32m━━━━━━━━━━━━━━━━━━━━\u001b[0m\u001b[37m\u001b[0m \u001b[1m9s\u001b[0m 13ms/step - accuracy: 0.9588 - loss: 0.1202 - val_accuracy: 0.9718 - val_loss: 0.0872\n",
      "Epoch 57/100\n",
      "\u001b[1m665/665\u001b[0m \u001b[32m━━━━━━━━━━━━━━━━━━━━\u001b[0m\u001b[37m\u001b[0m \u001b[1m10s\u001b[0m 13ms/step - accuracy: 0.9580 - loss: 0.1189 - val_accuracy: 0.9700 - val_loss: 0.0913\n",
      "Epoch 58/100\n",
      "\u001b[1m665/665\u001b[0m \u001b[32m━━━━━━━━━━━━━━━━━━━━\u001b[0m\u001b[37m\u001b[0m \u001b[1m7s\u001b[0m 10ms/step - accuracy: 0.9564 - loss: 0.1237 - val_accuracy: 0.9730 - val_loss: 0.0824\n",
      "Epoch 59/100\n",
      "\u001b[1m665/665\u001b[0m \u001b[32m━━━━━━━━━━━━━━━━━━━━\u001b[0m\u001b[37m\u001b[0m \u001b[1m6s\u001b[0m 9ms/step - accuracy: 0.9587 - loss: 0.1151 - val_accuracy: 0.9717 - val_loss: 0.0886\n",
      "Epoch 60/100\n",
      "\u001b[1m665/665\u001b[0m \u001b[32m━━━━━━━━━━━━━━━━━━━━\u001b[0m\u001b[37m\u001b[0m \u001b[1m11s\u001b[0m 10ms/step - accuracy: 0.9601 - loss: 0.1147 - val_accuracy: 0.9702 - val_loss: 0.0906\n",
      "Epoch 61/100\n",
      "\u001b[1m665/665\u001b[0m \u001b[32m━━━━━━━━━━━━━━━━━━━━\u001b[0m\u001b[37m\u001b[0m \u001b[1m6s\u001b[0m 9ms/step - accuracy: 0.9544 - loss: 0.1212 - val_accuracy: 0.9704 - val_loss: 0.0925\n",
      "Epoch 62/100\n",
      "\u001b[1m665/665\u001b[0m \u001b[32m━━━━━━━━━━━━━━━━━━━━\u001b[0m\u001b[37m\u001b[0m \u001b[1m7s\u001b[0m 10ms/step - accuracy: 0.9585 - loss: 0.1150 - val_accuracy: 0.9710 - val_loss: 0.0867\n",
      "Epoch 63/100\n",
      "\u001b[1m665/665\u001b[0m \u001b[32m━━━━━━━━━━━━━━━━━━━━\u001b[0m\u001b[37m\u001b[0m \u001b[1m6s\u001b[0m 9ms/step - accuracy: 0.9590 - loss: 0.1128 - val_accuracy: 0.9726 - val_loss: 0.0877\n",
      "Epoch 64/100\n",
      "\u001b[1m665/665\u001b[0m \u001b[32m━━━━━━━━━━━━━━━━━━━━\u001b[0m\u001b[37m\u001b[0m \u001b[1m6s\u001b[0m 9ms/step - accuracy: 0.9589 - loss: 0.1141 - val_accuracy: 0.9711 - val_loss: 0.0858\n",
      "Epoch 65/100\n",
      "\u001b[1m665/665\u001b[0m \u001b[32m━━━━━━━━━━━━━━━━━━━━\u001b[0m\u001b[37m\u001b[0m \u001b[1m6s\u001b[0m 9ms/step - accuracy: 0.9587 - loss: 0.1171 - val_accuracy: 0.9731 - val_loss: 0.0855\n",
      "Epoch 66/100\n",
      "\u001b[1m665/665\u001b[0m \u001b[32m━━━━━━━━━━━━━━━━━━━━\u001b[0m\u001b[37m\u001b[0m \u001b[1m6s\u001b[0m 8ms/step - accuracy: 0.9589 - loss: 0.1135 - val_accuracy: 0.9704 - val_loss: 0.0862\n",
      "Epoch 67/100\n",
      "\u001b[1m665/665\u001b[0m \u001b[32m━━━━━━━━━━━━━━━━━━━━\u001b[0m\u001b[37m\u001b[0m \u001b[1m6s\u001b[0m 10ms/step - accuracy: 0.9597 - loss: 0.1128 - val_accuracy: 0.9729 - val_loss: 0.0845\n",
      "Epoch 68/100\n",
      "\u001b[1m665/665\u001b[0m \u001b[32m━━━━━━━━━━━━━━━━━━━━\u001b[0m\u001b[37m\u001b[0m \u001b[1m6s\u001b[0m 8ms/step - accuracy: 0.9600 - loss: 0.1130 - val_accuracy: 0.9730 - val_loss: 0.0811\n",
      "Epoch 69/100\n",
      "\u001b[1m665/665\u001b[0m \u001b[32m━━━━━━━━━━━━━━━━━━━━\u001b[0m\u001b[37m\u001b[0m \u001b[1m5s\u001b[0m 8ms/step - accuracy: 0.9608 - loss: 0.1081 - val_accuracy: 0.9743 - val_loss: 0.0817\n",
      "Epoch 70/100\n",
      "\u001b[1m665/665\u001b[0m \u001b[32m━━━━━━━━━━━━━━━━━━━━\u001b[0m\u001b[37m\u001b[0m \u001b[1m6s\u001b[0m 9ms/step - accuracy: 0.9607 - loss: 0.1108 - val_accuracy: 0.9725 - val_loss: 0.0844\n",
      "Epoch 71/100\n",
      "\u001b[1m665/665\u001b[0m \u001b[32m━━━━━━━━━━━━━━━━━━━━\u001b[0m\u001b[37m\u001b[0m \u001b[1m6s\u001b[0m 8ms/step - accuracy: 0.9600 - loss: 0.1138 - val_accuracy: 0.9742 - val_loss: 0.0827\n",
      "Epoch 72/100\n",
      "\u001b[1m665/665\u001b[0m \u001b[32m━━━━━━━━━━━━━━━━━━━━\u001b[0m\u001b[37m\u001b[0m \u001b[1m6s\u001b[0m 9ms/step - accuracy: 0.9622 - loss: 0.1063 - val_accuracy: 0.9735 - val_loss: 0.0829\n",
      "Epoch 73/100\n",
      "\u001b[1m665/665\u001b[0m \u001b[32m━━━━━━━━━━━━━━━━━━━━\u001b[0m\u001b[37m\u001b[0m \u001b[1m6s\u001b[0m 9ms/step - accuracy: 0.9601 - loss: 0.1101 - val_accuracy: 0.9723 - val_loss: 0.0867\n",
      "Epoch 74/100\n",
      "\u001b[1m665/665\u001b[0m \u001b[32m━━━━━━━━━━━━━━━━━━━━\u001b[0m\u001b[37m\u001b[0m \u001b[1m6s\u001b[0m 9ms/step - accuracy: 0.9591 - loss: 0.1121 - val_accuracy: 0.9714 - val_loss: 0.0855\n",
      "Epoch 75/100\n",
      "\u001b[1m665/665\u001b[0m \u001b[32m━━━━━━━━━━━━━━━━━━━━\u001b[0m\u001b[37m\u001b[0m \u001b[1m6s\u001b[0m 9ms/step - accuracy: 0.9613 - loss: 0.1074 - val_accuracy: 0.9713 - val_loss: 0.0867\n",
      "Epoch 76/100\n",
      "\u001b[1m665/665\u001b[0m \u001b[32m━━━━━━━━━━━━━━━━━━━━\u001b[0m\u001b[37m\u001b[0m \u001b[1m6s\u001b[0m 9ms/step - accuracy: 0.9592 - loss: 0.1130 - val_accuracy: 0.9718 - val_loss: 0.0859\n",
      "Epoch 77/100\n",
      "\u001b[1m665/665\u001b[0m \u001b[32m━━━━━━━━━━━━━━━━━━━━\u001b[0m\u001b[37m\u001b[0m \u001b[1m6s\u001b[0m 8ms/step - accuracy: 0.9620 - loss: 0.1054 - val_accuracy: 0.9712 - val_loss: 0.0882\n",
      "Epoch 78/100\n",
      "\u001b[1m665/665\u001b[0m \u001b[32m━━━━━━━━━━━━━━━━━━━━\u001b[0m\u001b[37m\u001b[0m \u001b[1m12s\u001b[0m 11ms/step - accuracy: 0.9645 - loss: 0.0993 - val_accuracy: 0.9736 - val_loss: 0.0857\n",
      "Epoch 79/100\n",
      "\u001b[1m665/665\u001b[0m \u001b[32m━━━━━━━━━━━━━━━━━━━━\u001b[0m\u001b[37m\u001b[0m \u001b[1m9s\u001b[0m 9ms/step - accuracy: 0.9627 - loss: 0.1034 - val_accuracy: 0.9721 - val_loss: 0.0899\n",
      "Epoch 80/100\n",
      "\u001b[1m665/665\u001b[0m \u001b[32m━━━━━━━━━━━━━━━━━━━━\u001b[0m\u001b[37m\u001b[0m \u001b[1m7s\u001b[0m 10ms/step - accuracy: 0.9614 - loss: 0.1069 - val_accuracy: 0.9724 - val_loss: 0.0874\n",
      "Epoch 81/100\n",
      "\u001b[1m665/665\u001b[0m \u001b[32m━━━━━━━━━━━━━━━━━━━━\u001b[0m\u001b[37m\u001b[0m \u001b[1m8s\u001b[0m 12ms/step - accuracy: 0.9623 - loss: 0.1079 - val_accuracy: 0.9737 - val_loss: 0.0829\n",
      "Epoch 82/100\n",
      "\u001b[1m665/665\u001b[0m \u001b[32m━━━━━━━━━━━━━━━━━━━━\u001b[0m\u001b[37m\u001b[0m \u001b[1m6s\u001b[0m 9ms/step - accuracy: 0.9621 - loss: 0.1051 - val_accuracy: 0.9732 - val_loss: 0.0875\n",
      "Epoch 83/100\n",
      "\u001b[1m665/665\u001b[0m \u001b[32m━━━━━━━━━━━━━━━━━━━━\u001b[0m\u001b[37m\u001b[0m \u001b[1m6s\u001b[0m 9ms/step - accuracy: 0.9623 - loss: 0.1078 - val_accuracy: 0.9738 - val_loss: 0.0837\n",
      "Epoch 84/100\n",
      "\u001b[1m665/665\u001b[0m \u001b[32m━━━━━━━━━━━━━━━━━━━━\u001b[0m\u001b[37m\u001b[0m \u001b[1m6s\u001b[0m 9ms/step - accuracy: 0.9624 - loss: 0.1071 - val_accuracy: 0.9737 - val_loss: 0.0888\n",
      "Epoch 85/100\n",
      "\u001b[1m665/665\u001b[0m \u001b[32m━━━━━━━━━━━━━━━━━━━━\u001b[0m\u001b[37m\u001b[0m \u001b[1m7s\u001b[0m 10ms/step - accuracy: 0.9634 - loss: 0.1039 - val_accuracy: 0.9725 - val_loss: 0.0906\n",
      "Epoch 86/100\n",
      "\u001b[1m665/665\u001b[0m \u001b[32m━━━━━━━━━━━━━━━━━━━━\u001b[0m\u001b[37m\u001b[0m \u001b[1m5s\u001b[0m 8ms/step - accuracy: 0.9643 - loss: 0.1037 - val_accuracy: 0.9708 - val_loss: 0.0911\n",
      "Epoch 87/100\n",
      "\u001b[1m665/665\u001b[0m \u001b[32m━━━━━━━━━━━━━━━━━━━━\u001b[0m\u001b[37m\u001b[0m \u001b[1m10s\u001b[0m 8ms/step - accuracy: 0.9611 - loss: 0.1052 - val_accuracy: 0.9732 - val_loss: 0.0859\n",
      "Epoch 88/100\n",
      "\u001b[1m665/665\u001b[0m \u001b[32m━━━━━━━━━━━━━━━━━━━━\u001b[0m\u001b[37m\u001b[0m \u001b[1m6s\u001b[0m 9ms/step - accuracy: 0.9631 - loss: 0.1017 - val_accuracy: 0.9722 - val_loss: 0.0875\n",
      "Epoch 89/100\n",
      "\u001b[1m665/665\u001b[0m \u001b[32m━━━━━━━━━━━━━━━━━━━━\u001b[0m\u001b[37m\u001b[0m \u001b[1m7s\u001b[0m 11ms/step - accuracy: 0.9623 - loss: 0.1056 - val_accuracy: 0.9741 - val_loss: 0.0857\n",
      "Epoch 90/100\n",
      "\u001b[1m665/665\u001b[0m \u001b[32m━━━━━━━━━━━━━━━━━━━━\u001b[0m\u001b[37m\u001b[0m \u001b[1m6s\u001b[0m 9ms/step - accuracy: 0.9612 - loss: 0.1089 - val_accuracy: 0.9757 - val_loss: 0.0780\n",
      "Epoch 91/100\n",
      "\u001b[1m665/665\u001b[0m \u001b[32m━━━━━━━━━━━━━━━━━━━━\u001b[0m\u001b[37m\u001b[0m \u001b[1m7s\u001b[0m 11ms/step - accuracy: 0.9632 - loss: 0.1040 - val_accuracy: 0.9724 - val_loss: 0.0902\n",
      "Epoch 92/100\n",
      "\u001b[1m665/665\u001b[0m \u001b[32m━━━━━━━━━━━━━━━━━━━━\u001b[0m\u001b[37m\u001b[0m \u001b[1m6s\u001b[0m 10ms/step - accuracy: 0.9644 - loss: 0.1021 - val_accuracy: 0.9729 - val_loss: 0.0865\n",
      "Epoch 93/100\n",
      "\u001b[1m665/665\u001b[0m \u001b[32m━━━━━━━━━━━━━━━━━━━━\u001b[0m\u001b[37m\u001b[0m \u001b[1m6s\u001b[0m 9ms/step - accuracy: 0.9631 - loss: 0.1035 - val_accuracy: 0.9735 - val_loss: 0.0798\n",
      "Epoch 94/100\n",
      "\u001b[1m665/665\u001b[0m \u001b[32m━━━━━━━━━━━━━━━━━━━━\u001b[0m\u001b[37m\u001b[0m \u001b[1m6s\u001b[0m 9ms/step - accuracy: 0.9610 - loss: 0.1056 - val_accuracy: 0.9741 - val_loss: 0.0797\n",
      "Epoch 95/100\n",
      "\u001b[1m665/665\u001b[0m \u001b[32m━━━━━━━━━━━━━━━━━━━━\u001b[0m\u001b[37m\u001b[0m \u001b[1m6s\u001b[0m 9ms/step - accuracy: 0.9619 - loss: 0.1039 - val_accuracy: 0.9742 - val_loss: 0.0826\n",
      "Epoch 96/100\n",
      "\u001b[1m665/665\u001b[0m \u001b[32m━━━━━━━━━━━━━━━━━━━━\u001b[0m\u001b[37m\u001b[0m \u001b[1m7s\u001b[0m 10ms/step - accuracy: 0.9647 - loss: 0.1045 - val_accuracy: 0.9721 - val_loss: 0.0875\n",
      "Epoch 97/100\n",
      "\u001b[1m665/665\u001b[0m \u001b[32m━━━━━━━━━━━━━━━━━━━━\u001b[0m\u001b[37m\u001b[0m \u001b[1m7s\u001b[0m 11ms/step - accuracy: 0.9625 - loss: 0.1072 - val_accuracy: 0.9729 - val_loss: 0.0821\n",
      "Epoch 98/100\n",
      "\u001b[1m665/665\u001b[0m \u001b[32m━━━━━━━━━━━━━━━━━━━━\u001b[0m\u001b[37m\u001b[0m \u001b[1m6s\u001b[0m 9ms/step - accuracy: 0.9648 - loss: 0.0966 - val_accuracy: 0.9721 - val_loss: 0.0903\n",
      "Epoch 99/100\n",
      "\u001b[1m665/665\u001b[0m \u001b[32m━━━━━━━━━━━━━━━━━━━━\u001b[0m\u001b[37m\u001b[0m \u001b[1m6s\u001b[0m 8ms/step - accuracy: 0.9645 - loss: 0.1038 - val_accuracy: 0.9744 - val_loss: 0.0777\n",
      "Epoch 100/100\n",
      "\u001b[1m665/665\u001b[0m \u001b[32m━━━━━━━━━━━━━━━━━━━━\u001b[0m\u001b[37m\u001b[0m \u001b[1m6s\u001b[0m 8ms/step - accuracy: 0.9634 - loss: 0.1043 - val_accuracy: 0.9738 - val_loss: 0.0819\n"
     ]
    }
   ],
   "source": [
    "history = model.fit(X_train, y_train_cat,\n",
    "                    epochs=100,\n",
    "                    batch_size=64,\n",
    "                    validation_data=(X_test, y_test_cat))\n"
   ]
  },
  {
   "cell_type": "code",
   "execution_count": 15,
   "id": "160e143e",
   "metadata": {
    "scrolled": true
   },
   "outputs": [
    {
     "data": {
      "image/png": "[encoded data removed]",
      "text/plain": [
       "<Figure size 864x360 with 2 Axes>"
      ]
     },
     "metadata": {
      "needs_background": "light"
     },
     "output_type": "display_data"
    }
   ],
   "source": [
    "import matplotlib.pyplot as plt\n",
    "\n",
    "plt.figure(figsize=(12, 5))\n",
    "\n",
    "plt.subplot(1, 2, 1)\n",
    "plt.plot(history.history['accuracy'], label='Train Acc')\n",
    "plt.plot(history.history['val_accuracy'], label='Val Acc')\n",
    "plt.title('Model Accuracy')\n",
    "plt.xlabel('Epoch')\n",
    "plt.ylabel('Accuracy')\n",
    "plt.legend()\n",
    "\n",
    "plt.subplot(1, 2, 2)\n",
    "plt.plot(history.history['loss'], label='Train Loss')\n",
    "plt.plot(history.history['val_loss'], label='Val Loss')\n",
    "plt.title('Model Loss')\n",
    "plt.xlabel('Epoch')\n",
    "plt.ylabel('Loss')\n",
    "plt.legend()\n",
    "\n",
    "plt.tight_layout()\n",
    "plt.show()\n"
   ]
  },
  {
   "cell_type": "code",
   "execution_count": 16,
   "id": "5617950f",
   "metadata": {},
   "outputs": [
    {
     "name": "stdout",
     "output_type": "stream",
     "text": [
      "\u001b[1m333/333\u001b[0m \u001b[32m━━━━━━━━━━━━━━━━━━━━\u001b[0m\u001b[37m\u001b[0m \u001b[1m1s\u001b[0m 3ms/step\n",
      "(10638, 6)\n"
     ]
    }
   ],
   "source": [
    "y_predic= model.predict(X_test)\n",
    "\n",
    "print(y_predic.shape)\n"
   ]
  },
  {
   "cell_type": "code",
   "execution_count": 17,
   "id": "32e74012",
   "metadata": {},
   "outputs": [
    {
     "name": "stdout",
     "output_type": "stream",
     "text": [
      "(10638, 6)\n"
     ]
    }
   ],
   "source": [
    "print(y_test_cat.shape)"
   ]
  },
  {
   "cell_type": "code",
   "execution_count": 18,
   "id": "ed6fe59d",
   "metadata": {},
   "outputs": [
    {
     "name": "stdout",
     "output_type": "stream",
     "text": [
      "0.006626123967432725\n"
     ]
    }
   ],
   "source": [
    "\n",
    "\n",
    "from sklearn.metrics import mean_squared_error\n",
    "\n",
    "mse = mean_squared_error(y_test_cat, y_predic)\n",
    "print(mse)\n"
   ]
  },
  {
   "cell_type": "code",
   "execution_count": 19,
   "id": "2b5d599b",
   "metadata": {},
   "outputs": [
    {
     "name": "stdout",
     "output_type": "stream",
     "text": [
      "\u001b[1m333/333\u001b[0m \u001b[32m━━━━━━━━━━━━━━━━━━━━\u001b[0m\u001b[37m\u001b[0m \u001b[1m1s\u001b[0m 3ms/step - accuracy: 0.9729 - loss: 0.0865\n"
     ]
    }
   ],
   "source": [
    "mse = model.evaluate(X_test, y_test_cat)\n"
   ]
  },
  {
   "cell_type": "code",
   "execution_count": 20,
   "id": "97a327cf",
   "metadata": {},
   "outputs": [
    {
     "name": "stdout",
     "output_type": "stream",
     "text": [
      "[[4.2213548e-02 2.4521628e-03 1.6840094e-13 3.0820837e-30 9.5501792e-01\n",
      "  3.1635186e-04]\n",
      " [1.3121313e-37 0.0000000e+00 1.0000000e+00 0.0000000e+00 6.9902074e-25\n",
      "  3.5825438e-31]\n",
      " [1.6491324e-20 2.2213328e-11 0.0000000e+00 0.0000000e+00 3.0671236e-13\n",
      "  1.0000000e+00]\n",
      " ...\n",
      " [2.1797641e-06 1.1054358e-06 6.7951420e-20 1.5343566e-25 2.1381043e-03\n",
      "  9.9785858e-01]\n",
      " [7.5465509e-09 2.8414768e-13 2.2570551e-03 9.9770230e-01 4.0615203e-05\n",
      "  3.2792101e-08]\n",
      " [1.4012142e-05 2.9790669e-06 9.8232791e-23 0.0000000e+00 2.6661203e-06\n",
      "  9.9998033e-01]]\n"
     ]
    }
   ],
   "source": [
    "y_predic = np.array(y_predic)\n",
    "print(y_predic)"
   ]
  },
  {
   "cell_type": "code",
   "execution_count": 21,
   "id": "2a7e6fc7",
   "metadata": {},
   "outputs": [
    {
     "name": "stdout",
     "output_type": "stream",
     "text": [
      "[4 2 5 ... 5 3 5]\n"
     ]
    }
   ],
   "source": [
    "import numpy as np\n",
    "\n",
    "y_pred_labels = np.argmax(y_predic, axis=1)\n",
    "print(y_pred_labels)"
   ]
  },
  {
   "cell_type": "code",
   "execution_count": 22,
   "id": "dd755b5c",
   "metadata": {},
   "outputs": [
    {
     "name": "stdout",
     "output_type": "stream",
     "text": [
      "INFO:tensorflow:Assets written to: C:\\Users\\SHEYDA~1\\AppData\\Local\\Temp\\tmphijx_8r_\\assets\n"
     ]
    },
    {
     "name": "stderr",
     "output_type": "stream",
     "text": [
      "INFO:tensorflow:Assets written to: C:\\Users\\SHEYDA~1\\AppData\\Local\\Temp\\tmphijx_8r_\\assets\n"
     ]
    },
    {
     "name": "stdout",
     "output_type": "stream",
     "text": [
      "Saved artifact at 'C:\\Users\\SHEYDA~1\\AppData\\Local\\Temp\\tmphijx_8r_'. The following endpoints are available:\n",
      "\n",
      "* Endpoint 'serve'\n",
      "  args_0 (POSITIONAL_ONLY): TensorSpec(shape=(None, 60, 4), dtype=tf.float32, name='keras_tensor')\n",
      "Output Type:\n",
      "  TensorSpec(shape=(None, 6), dtype=tf.float32, name=None)\n",
      "Captures:\n",
      "  2887582670688: TensorSpec(shape=(), dtype=tf.resource, name=None)\n",
      "  2887582753888: TensorSpec(shape=(), dtype=tf.resource, name=None)\n",
      "  2887581782608: TensorSpec(shape=(), dtype=tf.resource, name=None)\n",
      "  2887581782256: TensorSpec(shape=(), dtype=tf.resource, name=None)\n",
      "  2887581885536: TensorSpec(shape=(), dtype=tf.resource, name=None)\n",
      "  2887581885184: TensorSpec(shape=(), dtype=tf.resource, name=None)\n"
     ]
    }
   ],
   "source": [
    "converter = tf.lite.TFLiteConverter.from_keras_model(model)\n",
    "tflite_model = converter.convert()\n",
    "\n",
    "with open(\"activity_model.tflite\", \"wb\") as f:\n",
    "    f.write(tflite_model)\n"
   ]
  },
  {
   "cell_type": "code",
   "execution_count": 23,
   "id": "a495b1b1",
   "metadata": {},
   "outputs": [
    {
     "name": "stdout",
     "output_type": "stream",
     "text": [
      "Predicted probabilities: [[1.3121510e-37 0.0000000e+00 1.0000000e+00 0.0000000e+00 6.9902597e-25\n",
      "  3.5825431e-31]]\n",
      "Predicted class: 2\n"
     ]
    }
   ],
   "source": [
    "interpreter = tf.lite.Interpreter(model_path=\"activity_model.tflite\")\n",
    "interpreter.allocate_tensors()\n",
    "\n",
    "input_details = interpreter.get_input_details()\n",
    "output_details = interpreter.get_output_details()\n",
    "\n",
    "sample_input = X_test[1:2].astype(np.float32) \n",
    "\n",
    "interpreter.set_tensor(input_details[0]['index'], sample_input)\n",
    "interpreter.invoke()\n",
    "output = interpreter.get_tensor(output_details[0]['index'])\n",
    "\n",
    "print(\"Predicted probabilities:\", output)\n",
    "print(\"Predicted class:\", np.argmax(output))\n"
   ]
  },
  {
   "cell_type": "code",
   "execution_count": 24,
   "id": "d6b80d19",
   "metadata": {},
   "outputs": [
    {
     "data": {
      "text/plain": [
       "array([[0., 0., 1., 0., 0., 0.]])"
      ]
     },
     "execution_count": 24,
     "metadata": {},
     "output_type": "execute_result"
    }
   ],
   "source": [
    "y_test_cat[1:2]"
   ]
  },
  {
   "cell_type": "markdown",
   "id": "cdb49342",
   "metadata": {},
   "source": [
    "## Test model with mobile's real data"
   ]
  },
  {
   "cell_type": "code",
   "execution_count": 25,
   "id": "276ef675",
   "metadata": {},
   "outputs": [
    {
     "name": "stdout",
     "output_type": "stream",
     "text": [
      "Saved CSV to data2.csv\n"
     ]
    }
   ],
   "source": [
    "import json\n",
    "import numpy as np\n",
    "import pandas as pd\n",
    "\n",
    "def process_json_to_csv(input_path, output_path):\n",
    "    with open(\"E:\\EdgeAi\\data2.json\", 'r') as f:\n",
    "        data = json.load(f)\n",
    "\n",
    "    sensor_names = [s[\"name\"] for s in data[\"payload\"][\"sensors\"]]  # ['accX','accY','accZ']\n",
    "    values = data[\"payload\"][\"values\"]  # لیست از لیست‌های [x,y,z]\n",
    "\n",
    "    df = pd.DataFrame(values, columns=sensor_names)\n",
    "\n",
    "    df[\"magnitude\"] = np.sqrt(df[\"accX\"]**2 + df[\"accY\"]**2 + df[\"accZ\"]**2)\n",
    "\n",
    "    df.to_csv(output_path, index=False)\n",
    "    print(f\"Saved CSV to {output_path}\")\n",
    "\n",
    "process_json_to_csv(\"data2.json\", \"data2.csv\")\n"
   ]
  },
  {
   "cell_type": "code",
   "execution_count": 27,
   "id": "880740c3",
   "metadata": {},
   "outputs": [
    {
     "data": {
      "text/html": [
       "<div>\n",
       "<style scoped>\n",
       "    .dataframe tbody tr th:only-of-type {\n",
       "        vertical-align: middle;\n",
       "    }\n",
       "\n",
       "    .dataframe tbody tr th {\n",
       "        vertical-align: top;\n",
       "    }\n",
       "\n",
       "    .dataframe thead th {\n",
       "        text-align: right;\n",
       "    }\n",
       "</style>\n",
       "<table border=\"1\" class=\"dataframe\">\n",
       "  <thead>\n",
       "    <tr style=\"text-align: right;\">\n",
       "      <th></th>\n",
       "      <th>accX</th>\n",
       "      <th>accY</th>\n",
       "      <th>accZ</th>\n",
       "      <th>magnitude</th>\n",
       "    </tr>\n",
       "  </thead>\n",
       "  <tbody>\n",
       "    <tr>\n",
       "      <th>0</th>\n",
       "      <td>-0.1</td>\n",
       "      <td>0.0</td>\n",
       "      <td>9.9</td>\n",
       "      <td>9.900505</td>\n",
       "    </tr>\n",
       "    <tr>\n",
       "      <th>1</th>\n",
       "      <td>-0.1</td>\n",
       "      <td>0.0</td>\n",
       "      <td>9.9</td>\n",
       "      <td>9.900505</td>\n",
       "    </tr>\n",
       "    <tr>\n",
       "      <th>2</th>\n",
       "      <td>-0.1</td>\n",
       "      <td>-0.1</td>\n",
       "      <td>9.9</td>\n",
       "      <td>9.901010</td>\n",
       "    </tr>\n",
       "    <tr>\n",
       "      <th>3</th>\n",
       "      <td>-0.1</td>\n",
       "      <td>0.0</td>\n",
       "      <td>9.9</td>\n",
       "      <td>9.900505</td>\n",
       "    </tr>\n",
       "    <tr>\n",
       "      <th>4</th>\n",
       "      <td>-0.1</td>\n",
       "      <td>0.0</td>\n",
       "      <td>9.9</td>\n",
       "      <td>9.900505</td>\n",
       "    </tr>\n",
       "  </tbody>\n",
       "</table>\n",
       "</div>"
      ],
      "text/plain": [
       "   accX  accY  accZ  magnitude\n",
       "0  -0.1   0.0   9.9   9.900505\n",
       "1  -0.1   0.0   9.9   9.900505\n",
       "2  -0.1  -0.1   9.9   9.901010\n",
       "3  -0.1   0.0   9.9   9.900505\n",
       "4  -0.1   0.0   9.9   9.900505"
      ]
     },
     "execution_count": 27,
     "metadata": {},
     "output_type": "execute_result"
    }
   ],
   "source": [
    "df.head()"
   ]
  },
  {
   "cell_type": "code",
   "execution_count": 28,
   "id": "8c41c9b5",
   "metadata": {},
   "outputs": [
    {
     "name": "stdout",
     "output_type": "stream",
     "text": [
      "Predicted probabilities: [[5.1271455e-13 7.0559014e-05 0.0000000e+00 0.0000000e+00 4.6906140e-17\n",
      "  9.9992943e-01]]\n",
      "Predicted class: 5\n",
      "Predicted activity: Walking\n"
     ]
    }
   ],
   "source": [
    "import numpy as np\n",
    "import pandas as pd\n",
    "import tensorflow as tf\n",
    "from sklearn.preprocessing import StandardScaler\n",
    "\n",
    "csv_path = 'data2.csv'\n",
    "\n",
    "df = pd.read_csv(csv_path)\n",
    "\n",
    "features = df[['accX', 'accY', 'accZ', 'magnitude']].values\n",
    "\n",
    "expected_timesteps = 60\n",
    "if features.shape[0] > expected_timesteps:\n",
    "    features = features[:expected_timesteps]\n",
    "elif features.shape[0] < expected_timesteps:\n",
    "    pad = np.zeros((expected_timesteps - features.shape[0], features.shape[1]))\n",
    "    features = np.vstack((features, pad))\n",
    "\n",
    "scaler = StandardScaler()\n",
    "features = scaler.fit_transform(features)\n",
    "\n",
    "input_tensor = np.expand_dims(features, axis=0).astype(np.float32)\n",
    "\n",
    "interpreter = tf.lite.Interpreter(model_path=\"activity_model.tflite\")\n",
    "interpreter.allocate_tensors()\n",
    "input_details = interpreter.get_input_details()\n",
    "output_details = interpreter.get_output_details()\n",
    "\n",
    "interpreter.set_tensor(input_details[0]['index'], input_tensor)\n",
    "interpreter.invoke()\n",
    "output = interpreter.get_tensor(output_details[0]['index'])\n",
    "\n",
    "\n",
    "predicted_class = np.argmax(output)\n",
    "activity_labels = {\n",
    "    0: \"Downstairs\",\n",
    "    1: \"Jogging\",\n",
    "    2: \"Sitting\",\n",
    "    3: \"Standing\",\n",
    "    4: \"Upstairs\",\n",
    "    5: \"Walking\"\n",
    "}\n",
    "\n",
    "print(\"Predicted probabilities:\", output)\n",
    "print(\"Predicted class:\", predicted_class)\n",
    "print(\"Predicted activity:\", activity_labels[predicted_class])\n"
   ]
  },
  {
   "cell_type": "code",
   "execution_count": null,
   "id": "673242a6",
   "metadata": {},
   "outputs": [],
   "source": []
  },
  {
   "cell_type": "code",
   "execution_count": null,
   "id": "21f1b077",
   "metadata": {},
   "outputs": [],
   "source": []
  }
 ],
 "metadata": {
  "kernelspec": {
   "display_name": "Python 3 (ipykernel)",
   "language": "python",
   "name": "python3"
  },
  "language_info": {
   "codemirror_mode": {
    "name": "ipython",
    "version": 3
   },
   "file_extension": ".py",
   "mimetype": "text/x-python",
   "name": "python",
   "nbconvert_exporter": "python",
   "pygments_lexer": "ipython3",
   "version": "3.9.7"
  }
 },
 "nbformat": 4,
 "nbformat_minor": 5
}
