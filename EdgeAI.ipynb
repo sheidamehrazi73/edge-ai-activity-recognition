{
 "cells": [
  {
   "cell_type": "code",
   "execution_count": 45,
   "id": "9dd38c8e",
   "metadata": {},
   "outputs": [],
   "source": [
    "import pandas as pd\n",
    "import numpy as np\n",
    "import seaborn as sns\n",
    "import matplotlib.pyplot as plt\n",
    "from sklearn.utils import shuffle\n",
    "from sklearn.preprocessing import LabelEncoder, StandardScaler\n",
    "from sklearn.model_selection import train_test_split\n",
    "\n"
   ]
  },
  {
   "cell_type": "code",
   "execution_count": 46,
   "id": "7144e5b4",
   "metadata": {},
   "outputs": [
    {
     "data": {
      "text/html": [
       "<div>\n",
       "<style scoped>\n",
       "    .dataframe tbody tr th:only-of-type {\n",
       "        vertical-align: middle;\n",
       "    }\n",
       "\n",
       "    .dataframe tbody tr th {\n",
       "        vertical-align: top;\n",
       "    }\n",
       "\n",
       "    .dataframe thead th {\n",
       "        text-align: right;\n",
       "    }\n",
       "</style>\n",
       "<table border=\"1\" class=\"dataframe\">\n",
       "  <thead>\n",
       "    <tr style=\"text-align: right;\">\n",
       "      <th></th>\n",
       "      <th>user</th>\n",
       "      <th>activity</th>\n",
       "      <th>timestamp</th>\n",
       "      <th>x</th>\n",
       "      <th>y</th>\n",
       "      <th>z</th>\n",
       "    </tr>\n",
       "  </thead>\n",
       "  <tbody>\n",
       "    <tr>\n",
       "      <th>0</th>\n",
       "      <td>33</td>\n",
       "      <td>Jogging</td>\n",
       "      <td>49105962326000</td>\n",
       "      <td>-0.694638</td>\n",
       "      <td>12.680544</td>\n",
       "      <td>0.503953</td>\n",
       "    </tr>\n",
       "    <tr>\n",
       "      <th>1</th>\n",
       "      <td>33</td>\n",
       "      <td>Jogging</td>\n",
       "      <td>49106062271000</td>\n",
       "      <td>5.012288</td>\n",
       "      <td>11.264028</td>\n",
       "      <td>0.953424</td>\n",
       "    </tr>\n",
       "    <tr>\n",
       "      <th>2</th>\n",
       "      <td>33</td>\n",
       "      <td>Jogging</td>\n",
       "      <td>49106112167000</td>\n",
       "      <td>4.903325</td>\n",
       "      <td>10.882658</td>\n",
       "      <td>-0.081722</td>\n",
       "    </tr>\n",
       "    <tr>\n",
       "      <th>3</th>\n",
       "      <td>33</td>\n",
       "      <td>Jogging</td>\n",
       "      <td>49106222305000</td>\n",
       "      <td>-0.612916</td>\n",
       "      <td>18.496431</td>\n",
       "      <td>3.023717</td>\n",
       "    </tr>\n",
       "    <tr>\n",
       "      <th>4</th>\n",
       "      <td>33</td>\n",
       "      <td>Jogging</td>\n",
       "      <td>49106332290000</td>\n",
       "      <td>-1.184970</td>\n",
       "      <td>12.108489</td>\n",
       "      <td>7.205164</td>\n",
       "    </tr>\n",
       "    <tr>\n",
       "      <th>...</th>\n",
       "      <td>...</td>\n",
       "      <td>...</td>\n",
       "      <td>...</td>\n",
       "      <td>...</td>\n",
       "      <td>...</td>\n",
       "      <td>...</td>\n",
       "    </tr>\n",
       "    <tr>\n",
       "      <th>795</th>\n",
       "      <td>33</td>\n",
       "      <td>Walking</td>\n",
       "      <td>49415992264000</td>\n",
       "      <td>-0.612916</td>\n",
       "      <td>3.568531</td>\n",
       "      <td>-1.797886</td>\n",
       "    </tr>\n",
       "    <tr>\n",
       "      <th>796</th>\n",
       "      <td>33</td>\n",
       "      <td>Walking</td>\n",
       "      <td>49416042129000</td>\n",
       "      <td>-0.803601</td>\n",
       "      <td>8.689782</td>\n",
       "      <td>-0.694638</td>\n",
       "    </tr>\n",
       "    <tr>\n",
       "      <th>797</th>\n",
       "      <td>33</td>\n",
       "      <td>Walking</td>\n",
       "      <td>49416152298000</td>\n",
       "      <td>1.688923</td>\n",
       "      <td>11.264028</td>\n",
       "      <td>-0.422231</td>\n",
       "    </tr>\n",
       "    <tr>\n",
       "      <th>798</th>\n",
       "      <td>33</td>\n",
       "      <td>Walking</td>\n",
       "      <td>49416252273000</td>\n",
       "      <td>1.225831</td>\n",
       "      <td>15.050485</td>\n",
       "      <td>-0.272407</td>\n",
       "    </tr>\n",
       "    <tr>\n",
       "      <th>799</th>\n",
       "      <td>33</td>\n",
       "      <td>Walking</td>\n",
       "      <td>49416362289000</td>\n",
       "      <td>-5.897611</td>\n",
       "      <td>15.513576</td>\n",
       "      <td>1.688923</td>\n",
       "    </tr>\n",
       "  </tbody>\n",
       "</table>\n",
       "<p>800 rows × 6 columns</p>\n",
       "</div>"
      ],
      "text/plain": [
       "     user activity       timestamp         x          y         z\n",
       "0      33  Jogging  49105962326000 -0.694638  12.680544  0.503953\n",
       "1      33  Jogging  49106062271000  5.012288  11.264028  0.953424\n",
       "2      33  Jogging  49106112167000  4.903325  10.882658 -0.081722\n",
       "3      33  Jogging  49106222305000 -0.612916  18.496431  3.023717\n",
       "4      33  Jogging  49106332290000 -1.184970  12.108489  7.205164\n",
       "..    ...      ...             ...       ...        ...       ...\n",
       "795    33  Walking  49415992264000 -0.612916   3.568531 -1.797886\n",
       "796    33  Walking  49416042129000 -0.803601   8.689782 -0.694638\n",
       "797    33  Walking  49416152298000  1.688923  11.264028 -0.422231\n",
       "798    33  Walking  49416252273000  1.225831  15.050485 -0.272407\n",
       "799    33  Walking  49416362289000 -5.897611  15.513576  1.688923\n",
       "\n",
       "[800 rows x 6 columns]"
      ]
     },
     "execution_count": 46,
     "metadata": {},
     "output_type": "execute_result"
    }
   ],
   "source": [
    "data=[]\n",
    "with open(\"E:\\EdgeAi\\WISDM_ar_latest\\WISDM_ar_v1.1\\WISDM_ar_v1.1_raw.txt\",'r')as file:\n",
    "    for line in file:\n",
    "        parts=line.strip().split(',')\n",
    "        if len(parts)==6:\n",
    "            try:\n",
    "                user=int(parts[0])\n",
    "                activity=parts[1]\n",
    "                timestamp=int(parts[2])\n",
    "                x=float(parts[3])\n",
    "                y=float(parts[4])\n",
    "                z_str = parts[5].replace(';', '')    \n",
    "                z = float(z_str)\n",
    "                data.append([user, activity, timestamp, x, y, z])\n",
    "            except:\n",
    "                continue      \n",
    "\n",
    "df=pd.DataFrame(data, columns=['user', 'activity', 'timestamp', 'x', 'y', 'z'])\n",
    "\n",
    "df.to_csv('wisdm_cleaned.csv', index=False)\n",
    "df.head(800)\n",
    "\n",
    "    \n",
    "      \n",
    " "
   ]
  },
  {
   "cell_type": "code",
   "execution_count": 47,
   "id": "8d110090",
   "metadata": {},
   "outputs": [
    {
     "name": "stdout",
     "output_type": "stream",
     "text": [
      "Unique Activities: ['Jogging' 'Walking' 'Upstairs' 'Downstairs' 'Sitting' 'Standing']\n",
      "Dataset Shape: (1086465, 6)\n"
     ]
    },
    {
     "data": {
      "image/png": "[encoded data removed]",
      "text/plain": [
       "<Figure size 432x288 with 1 Axes>"
      ]
     },
     "metadata": {
      "needs_background": "light"
     },
     "output_type": "display_data"
    }
   ],
   "source": [
    "\n",
    "print(\"Unique Activities:\", df['activity'].unique())\n",
    "print(\"Dataset Shape:\", df.shape)\n",
    "\n",
    "sns.countplot(data=df, x='activity')\n",
    "plt.xticks(rotation=45)\n",
    "plt.title(\"Distribution of Activity Labels\")\n",
    "plt.show()\n"
   ]
  },
  {
   "cell_type": "code",
   "execution_count": 48,
   "id": "3a1ad3b2",
   "metadata": {},
   "outputs": [],
   "source": [
    "#add Magnitude feature\n",
    "df['magnitude'] = np.sqrt(df['x']**2 + df['y']**2 + df['z']**2)\n"
   ]
  },
  {
   "cell_type": "code",
   "execution_count": 49,
   "id": "d75759d2",
   "metadata": {},
   "outputs": [
    {
     "data": {
      "text/html": [
       "<div>\n",
       "<style scoped>\n",
       "    .dataframe tbody tr th:only-of-type {\n",
       "        vertical-align: middle;\n",
       "    }\n",
       "\n",
       "    .dataframe tbody tr th {\n",
       "        vertical-align: top;\n",
       "    }\n",
       "\n",
       "    .dataframe thead th {\n",
       "        text-align: right;\n",
       "    }\n",
       "</style>\n",
       "<table border=\"1\" class=\"dataframe\">\n",
       "  <thead>\n",
       "    <tr style=\"text-align: right;\">\n",
       "      <th></th>\n",
       "      <th>user</th>\n",
       "      <th>activity</th>\n",
       "      <th>timestamp</th>\n",
       "      <th>x</th>\n",
       "      <th>y</th>\n",
       "      <th>z</th>\n",
       "      <th>magnitude</th>\n",
       "    </tr>\n",
       "  </thead>\n",
       "  <tbody>\n",
       "    <tr>\n",
       "      <th>0</th>\n",
       "      <td>33</td>\n",
       "      <td>Jogging</td>\n",
       "      <td>49105962326000</td>\n",
       "      <td>-0.694638</td>\n",
       "      <td>12.680544</td>\n",
       "      <td>0.503953</td>\n",
       "      <td>12.709551</td>\n",
       "    </tr>\n",
       "    <tr>\n",
       "      <th>1</th>\n",
       "      <td>33</td>\n",
       "      <td>Jogging</td>\n",
       "      <td>49106062271000</td>\n",
       "      <td>5.012288</td>\n",
       "      <td>11.264028</td>\n",
       "      <td>0.953424</td>\n",
       "      <td>12.365693</td>\n",
       "    </tr>\n",
       "    <tr>\n",
       "      <th>2</th>\n",
       "      <td>33</td>\n",
       "      <td>Jogging</td>\n",
       "      <td>49106112167000</td>\n",
       "      <td>4.903325</td>\n",
       "      <td>10.882658</td>\n",
       "      <td>-0.081722</td>\n",
       "      <td>11.936562</td>\n",
       "    </tr>\n",
       "    <tr>\n",
       "      <th>3</th>\n",
       "      <td>33</td>\n",
       "      <td>Jogging</td>\n",
       "      <td>49106222305000</td>\n",
       "      <td>-0.612916</td>\n",
       "      <td>18.496431</td>\n",
       "      <td>3.023717</td>\n",
       "      <td>18.751973</td>\n",
       "    </tr>\n",
       "    <tr>\n",
       "      <th>4</th>\n",
       "      <td>33</td>\n",
       "      <td>Jogging</td>\n",
       "      <td>49106332290000</td>\n",
       "      <td>-1.184970</td>\n",
       "      <td>12.108489</td>\n",
       "      <td>7.205164</td>\n",
       "      <td>14.139804</td>\n",
       "    </tr>\n",
       "    <tr>\n",
       "      <th>...</th>\n",
       "      <td>...</td>\n",
       "      <td>...</td>\n",
       "      <td>...</td>\n",
       "      <td>...</td>\n",
       "      <td>...</td>\n",
       "      <td>...</td>\n",
       "      <td>...</td>\n",
       "    </tr>\n",
       "    <tr>\n",
       "      <th>1086460</th>\n",
       "      <td>19</td>\n",
       "      <td>Sitting</td>\n",
       "      <td>131623331483000</td>\n",
       "      <td>9.000000</td>\n",
       "      <td>-1.570000</td>\n",
       "      <td>1.690000</td>\n",
       "      <td>9.290910</td>\n",
       "    </tr>\n",
       "    <tr>\n",
       "      <th>1086461</th>\n",
       "      <td>19</td>\n",
       "      <td>Sitting</td>\n",
       "      <td>131623371431000</td>\n",
       "      <td>9.040000</td>\n",
       "      <td>-1.460000</td>\n",
       "      <td>1.730000</td>\n",
       "      <td>9.319125</td>\n",
       "    </tr>\n",
       "    <tr>\n",
       "      <th>1086462</th>\n",
       "      <td>19</td>\n",
       "      <td>Sitting</td>\n",
       "      <td>131623411592000</td>\n",
       "      <td>9.080000</td>\n",
       "      <td>-1.380000</td>\n",
       "      <td>1.690000</td>\n",
       "      <td>9.338463</td>\n",
       "    </tr>\n",
       "    <tr>\n",
       "      <th>1086463</th>\n",
       "      <td>19</td>\n",
       "      <td>Sitting</td>\n",
       "      <td>131623491487000</td>\n",
       "      <td>9.000000</td>\n",
       "      <td>-1.460000</td>\n",
       "      <td>1.730000</td>\n",
       "      <td>9.280329</td>\n",
       "    </tr>\n",
       "    <tr>\n",
       "      <th>1086464</th>\n",
       "      <td>19</td>\n",
       "      <td>Sitting</td>\n",
       "      <td>131623531465000</td>\n",
       "      <td>8.880000</td>\n",
       "      <td>-1.330000</td>\n",
       "      <td>1.610000</td>\n",
       "      <td>9.122248</td>\n",
       "    </tr>\n",
       "  </tbody>\n",
       "</table>\n",
       "<p>1086465 rows × 7 columns</p>\n",
       "</div>"
      ],
      "text/plain": [
       "         user activity        timestamp         x          y         z  \\\n",
       "0          33  Jogging   49105962326000 -0.694638  12.680544  0.503953   \n",
       "1          33  Jogging   49106062271000  5.012288  11.264028  0.953424   \n",
       "2          33  Jogging   49106112167000  4.903325  10.882658 -0.081722   \n",
       "3          33  Jogging   49106222305000 -0.612916  18.496431  3.023717   \n",
       "4          33  Jogging   49106332290000 -1.184970  12.108489  7.205164   \n",
       "...       ...      ...              ...       ...        ...       ...   \n",
       "1086460    19  Sitting  131623331483000  9.000000  -1.570000  1.690000   \n",
       "1086461    19  Sitting  131623371431000  9.040000  -1.460000  1.730000   \n",
       "1086462    19  Sitting  131623411592000  9.080000  -1.380000  1.690000   \n",
       "1086463    19  Sitting  131623491487000  9.000000  -1.460000  1.730000   \n",
       "1086464    19  Sitting  131623531465000  8.880000  -1.330000  1.610000   \n",
       "\n",
       "         magnitude  \n",
       "0        12.709551  \n",
       "1        12.365693  \n",
       "2        11.936562  \n",
       "3        18.751973  \n",
       "4        14.139804  \n",
       "...            ...  \n",
       "1086460   9.290910  \n",
       "1086461   9.319125  \n",
       "1086462   9.338463  \n",
       "1086463   9.280329  \n",
       "1086464   9.122248  \n",
       "\n",
       "[1086465 rows x 7 columns]"
      ]
     },
     "execution_count": 49,
     "metadata": {},
     "output_type": "execute_result"
    }
   ],
   "source": [
    "df"
   ]
  },
  {
   "cell_type": "code",
   "execution_count": 50,
   "id": "c260d756",
   "metadata": {},
   "outputs": [
    {
     "name": "stdout",
     "output_type": "stream",
     "text": [
      "Activity Labels: {0: 'Downstairs', 1: 'Jogging', 2: 'Sitting', 3: 'Standing', 4: 'Upstairs', 5: 'Walking'}\n"
     ]
    }
   ],
   "source": [
    "#Convert activity to activity_code(string to int)\n",
    "le = LabelEncoder()\n",
    "\n",
    "\n",
    "le = LabelEncoder()\n",
    "df['activity_code'] = le.fit_transform(df['activity'])\n",
    "\n",
    "activity_labels = dict(enumerate(le.classes_))\n",
    "\n",
    "print(\"Activity Labels:\", activity_labels)\n"
   ]
  },
  {
   "cell_type": "code",
   "execution_count": 51,
   "id": "7baed103",
   "metadata": {},
   "outputs": [
    {
     "name": "stdout",
     "output_type": "stream",
     "text": [
      "Segments shape: (53188, 60, 4)\n",
      "Labels shape: (53188,)\n"
     ]
    }
   ],
   "source": [
    "\n",
    "window_size = 60 \n",
    "step_size = 20\n",
    "\n",
    "segments = []\n",
    "labels = []\n",
    "\n",
    "for start in range(0, len(df) - window_size, step_size):\n",
    "    end = start + window_size\n",
    "    segment = df.iloc[start:end]\n",
    "    if len(segment['activity_code'].unique()) == 1:\n",
    "        x = segment['x'].values\n",
    "        y = segment['y'].values\n",
    "        z = segment['z'].values\n",
    "        magnitude = segment['magnitude'].values\n",
    "\n",
    "        segments.append([x, y, z, magnitude])\n",
    "        labels.append(segment['activity_code'].iloc[0])\n",
    "\n",
    "segments = np.asarray(segments)\n",
    "labels = np.asarray(labels)\n",
    "\n",
    "X = np.transpose(segments, (0, 2, 1))  # (num_samples, 60, 4)\n",
    "y = labels\n",
    "print(f\"Segments shape: {X.shape}\")\n",
    "print(f\"Labels shape: {y.shape}\")"
   ]
  },
  {
   "cell_type": "code",
   "execution_count": null,
   "id": "eac4ab59",
   "metadata": {},
   "outputs": [],
   "source": []
  },
  {
   "cell_type": "code",
   "execution_count": 52,
   "id": "15ce29f5",
   "metadata": {},
   "outputs": [],
   "source": [
    "scaler = StandardScaler()\n",
    "num_samples, timesteps, num_features = X.shape\n",
    "\n",
    "X_reshaped = X.reshape(-1, num_features)\n",
    "X_scaled = scaler.fit_transform(X_reshaped)\n",
    "X_scaled = X_scaled.reshape(num_samples, timesteps, num_features)\n"
   ]
  },
  {
   "cell_type": "code",
   "execution_count": 53,
   "id": "4f59c01a",
   "metadata": {},
   "outputs": [],
   "source": [
    "import tensorflow as tf\n",
    "from tensorflow.keras.models import Sequential\n",
    "from tensorflow.keras.layers import Conv1D, MaxPooling1D, Dropout, Flatten, Dense\n",
    "from tensorflow.keras.utils import to_categorical\n"
   ]
  },
  {
   "cell_type": "code",
   "execution_count": 54,
   "id": "b61e702d",
   "metadata": {},
   "outputs": [],
   "source": [
    "from sklearn.model_selection import train_test_split\n",
    "\n",
    "X_train, X_test, y_train, y_test = train_test_split(\n",
    "    X_scaled, y, test_size=0.2, random_state=42, stratify=y\n",
    ")\n"
   ]
  },
  {
   "cell_type": "code",
   "execution_count": 55,
   "id": "1a51f768",
   "metadata": {},
   "outputs": [],
   "source": [
    "num_classes = len(np.unique(y_train))\n",
    "\n",
    "y_train_cat = to_categorical(y_train, num_classes)\n",
    "y_test_cat = to_categorical(y_test, num_classes)\n"
   ]
  },
  {
   "cell_type": "code",
   "execution_count": 56,
   "id": "f1d2431c",
   "metadata": {},
   "outputs": [
    {
     "name": "stderr",
     "output_type": "stream",
     "text": [
      "C:\\Users\\sheydameh\\AppData\\Roaming\\Python\\Python39\\site-packages\\keras\\src\\layers\\convolutional\\base_conv.py:107: UserWarning: Do not pass an `input_shape`/`input_dim` argument to a layer. When using Sequential models, prefer using an `Input(shape)` object as the first layer in the model instead.\n",
      "  super().__init__(activity_regularizer=activity_regularizer, **kwargs)\n"
     ]
    }
   ],
   "source": [
    "model = Sequential()\n",
    "\n",
    "model.add(Conv1D(filters=64, kernel_size=3, activation='relu', input_shape=(X_train.shape[1], X_train.shape[2])))\n",
    "model.add(MaxPooling1D(pool_size=2))\n",
    "model.add(Dropout(0.5))\n",
    "\n",
    "# Flatten و Dense\n",
    "model.add(Flatten())\n",
    "model.add(Dense(100, activation='relu'))\n",
    "model.add(Dropout(0.5))\n",
    "model.add(Dense(num_classes, activation='softmax'))\n"
   ]
  },
  {
   "cell_type": "code",
   "execution_count": 57,
   "id": "3e26014a",
   "metadata": {},
   "outputs": [],
   "source": [
    "model.compile(optimizer='adam',\n",
    "              loss='categorical_crossentropy',\n",
    "              metrics=['accuracy'])\n"
   ]
  },
  {
   "cell_type": "code",
   "execution_count": 58,
   "id": "739f9f23",
   "metadata": {},
   "outputs": [
    {
     "name": "stdout",
     "output_type": "stream",
     "text": [
      "Epoch 1/100\n",
      "\u001b[1m665/665\u001b[0m \u001b[32m━━━━━━━━━━━━━━━━━━━━\u001b[0m\u001b[37m\u001b[0m \u001b[1m7s\u001b[0m 8ms/step - accuracy: 0.7210 - loss: 0.7795 - val_accuracy: 0.8570 - val_loss: 0.3542\n",
      "Epoch 2/100\n",
      "\u001b[1m665/665\u001b[0m \u001b[32m━━━━━━━━━━━━━━━━━━━━\u001b[0m\u001b[37m\u001b[0m \u001b[1m5s\u001b[0m 8ms/step - accuracy: 0.8453 - loss: 0.4124 - val_accuracy: 0.8954 - val_loss: 0.2752\n",
      "Epoch 3/100\n",
      "\u001b[1m665/665\u001b[0m \u001b[32m━━━━━━━━━━━━━━━━━━━━\u001b[0m\u001b[37m\u001b[0m \u001b[1m5s\u001b[0m 8ms/step - accuracy: 0.8687 - loss: 0.3527 - val_accuracy: 0.9102 - val_loss: 0.2371\n",
      "Epoch 4/100\n",
      "\u001b[1m665/665\u001b[0m \u001b[32m━━━━━━━━━━━━━━━━━━━━\u001b[0m\u001b[37m\u001b[0m \u001b[1m5s\u001b[0m 7ms/step - accuracy: 0.8840 - loss: 0.3130 - val_accuracy: 0.9303 - val_loss: 0.2055\n",
      "Epoch 5/100\n",
      "\u001b[1m665/665\u001b[0m \u001b[32m━━━━━━━━━━━━━━━━━━━━\u001b[0m\u001b[37m\u001b[0m \u001b[1m5s\u001b[0m 8ms/step - accuracy: 0.8962 - loss: 0.2825 - val_accuracy: 0.9369 - val_loss: 0.1822\n",
      "Epoch 6/100\n",
      "\u001b[1m665/665\u001b[0m \u001b[32m━━━━━━━━━━━━━━━━━━━━\u001b[0m\u001b[37m\u001b[0m \u001b[1m5s\u001b[0m 8ms/step - accuracy: 0.9045 - loss: 0.2608 - val_accuracy: 0.9445 - val_loss: 0.1705\n",
      "Epoch 7/100\n",
      "\u001b[1m665/665\u001b[0m \u001b[32m━━━━━━━━━━━━━━━━━━━━\u001b[0m\u001b[37m\u001b[0m \u001b[1m10s\u001b[0m 8ms/step - accuracy: 0.9105 - loss: 0.2503 - val_accuracy: 0.9429 - val_loss: 0.1626\n",
      "Epoch 8/100\n",
      "\u001b[1m665/665\u001b[0m \u001b[32m━━━━━━━━━━━━━━━━━━━━\u001b[0m\u001b[37m\u001b[0m \u001b[1m10s\u001b[0m 8ms/step - accuracy: 0.9151 - loss: 0.2324 - val_accuracy: 0.9492 - val_loss: 0.1502\n",
      "Epoch 9/100\n",
      "\u001b[1m665/665\u001b[0m \u001b[32m━━━━━━━━━━━━━━━━━━━━\u001b[0m\u001b[37m\u001b[0m \u001b[1m5s\u001b[0m 8ms/step - accuracy: 0.9199 - loss: 0.2207 - val_accuracy: 0.9503 - val_loss: 0.1424\n",
      "Epoch 10/100\n",
      "\u001b[1m665/665\u001b[0m \u001b[32m━━━━━━━━━━━━━━━━━━━━\u001b[0m\u001b[37m\u001b[0m \u001b[1m5s\u001b[0m 8ms/step - accuracy: 0.9230 - loss: 0.2145 - val_accuracy: 0.9536 - val_loss: 0.1404\n",
      "Epoch 11/100\n",
      "\u001b[1m665/665\u001b[0m \u001b[32m━━━━━━━━━━━━━━━━━━━━\u001b[0m\u001b[37m\u001b[0m \u001b[1m5s\u001b[0m 8ms/step - accuracy: 0.9244 - loss: 0.2079 - val_accuracy: 0.9578 - val_loss: 0.1319\n",
      "Epoch 12/100\n",
      "\u001b[1m665/665\u001b[0m \u001b[32m━━━━━━━━━━━━━━━━━━━━\u001b[0m\u001b[37m\u001b[0m \u001b[1m5s\u001b[0m 8ms/step - accuracy: 0.9285 - loss: 0.2003 - val_accuracy: 0.9539 - val_loss: 0.1297\n",
      "Epoch 13/100\n",
      "\u001b[1m665/665\u001b[0m \u001b[32m━━━━━━━━━━━━━━━━━━━━\u001b[0m\u001b[37m\u001b[0m \u001b[1m5s\u001b[0m 8ms/step - accuracy: 0.9297 - loss: 0.1962 - val_accuracy: 0.9566 - val_loss: 0.1288\n",
      "Epoch 14/100\n",
      "\u001b[1m665/665\u001b[0m \u001b[32m━━━━━━━━━━━━━━━━━━━━\u001b[0m\u001b[37m\u001b[0m \u001b[1m5s\u001b[0m 8ms/step - accuracy: 0.9318 - loss: 0.1880 - val_accuracy: 0.9589 - val_loss: 0.1246\n",
      "Epoch 15/100\n",
      "\u001b[1m665/665\u001b[0m \u001b[32m━━━━━━━━━━━━━━━━━━━━\u001b[0m\u001b[37m\u001b[0m \u001b[1m5s\u001b[0m 8ms/step - accuracy: 0.9335 - loss: 0.1881 - val_accuracy: 0.9609 - val_loss: 0.1189\n",
      "Epoch 16/100\n",
      "\u001b[1m665/665\u001b[0m \u001b[32m━━━━━━━━━━━━━━━━━━━━\u001b[0m\u001b[37m\u001b[0m \u001b[1m5s\u001b[0m 8ms/step - accuracy: 0.9381 - loss: 0.1759 - val_accuracy: 0.9605 - val_loss: 0.1167\n",
      "Epoch 17/100\n",
      "\u001b[1m665/665\u001b[0m \u001b[32m━━━━━━━━━━━━━━━━━━━━\u001b[0m\u001b[37m\u001b[0m \u001b[1m5s\u001b[0m 8ms/step - accuracy: 0.9358 - loss: 0.1771 - val_accuracy: 0.9591 - val_loss: 0.1238\n",
      "Epoch 18/100\n",
      "\u001b[1m665/665\u001b[0m \u001b[32m━━━━━━━━━━━━━━━━━━━━\u001b[0m\u001b[37m\u001b[0m \u001b[1m5s\u001b[0m 8ms/step - accuracy: 0.9397 - loss: 0.1683 - val_accuracy: 0.9587 - val_loss: 0.1207\n",
      "Epoch 19/100\n",
      "\u001b[1m665/665\u001b[0m \u001b[32m━━━━━━━━━━━━━━━━━━━━\u001b[0m\u001b[37m\u001b[0m \u001b[1m5s\u001b[0m 8ms/step - accuracy: 0.9423 - loss: 0.1671 - val_accuracy: 0.9612 - val_loss: 0.1138\n",
      "Epoch 20/100\n",
      "\u001b[1m665/665\u001b[0m \u001b[32m━━━━━━━━━━━━━━━━━━━━\u001b[0m\u001b[37m\u001b[0m \u001b[1m5s\u001b[0m 8ms/step - accuracy: 0.9404 - loss: 0.1623 - val_accuracy: 0.9651 - val_loss: 0.1070\n",
      "Epoch 21/100\n",
      "\u001b[1m665/665\u001b[0m \u001b[32m━━━━━━━━━━━━━━━━━━━━\u001b[0m\u001b[37m\u001b[0m \u001b[1m5s\u001b[0m 8ms/step - accuracy: 0.9374 - loss: 0.1683 - val_accuracy: 0.9647 - val_loss: 0.1070\n",
      "Epoch 22/100\n",
      "\u001b[1m665/665\u001b[0m \u001b[32m━━━━━━━━━━━━━━━━━━━━\u001b[0m\u001b[37m\u001b[0m \u001b[1m5s\u001b[0m 8ms/step - accuracy: 0.9427 - loss: 0.1608 - val_accuracy: 0.9657 - val_loss: 0.1022\n",
      "Epoch 23/100\n",
      "\u001b[1m665/665\u001b[0m \u001b[32m━━━━━━━━━━━━━━━━━━━━\u001b[0m\u001b[37m\u001b[0m \u001b[1m5s\u001b[0m 8ms/step - accuracy: 0.9437 - loss: 0.1561 - val_accuracy: 0.9679 - val_loss: 0.1041\n",
      "Epoch 24/100\n",
      "\u001b[1m665/665\u001b[0m \u001b[32m━━━━━━━━━━━━━━━━━━━━\u001b[0m\u001b[37m\u001b[0m \u001b[1m5s\u001b[0m 8ms/step - accuracy: 0.9416 - loss: 0.1620 - val_accuracy: 0.9653 - val_loss: 0.1060\n",
      "Epoch 25/100\n",
      "\u001b[1m665/665\u001b[0m \u001b[32m━━━━━━━━━━━━━━━━━━━━\u001b[0m\u001b[37m\u001b[0m \u001b[1m10s\u001b[0m 8ms/step - accuracy: 0.9451 - loss: 0.1540 - val_accuracy: 0.9665 - val_loss: 0.0985\n",
      "Epoch 26/100\n",
      "\u001b[1m665/665\u001b[0m \u001b[32m━━━━━━━━━━━━━━━━━━━━\u001b[0m\u001b[37m\u001b[0m \u001b[1m5s\u001b[0m 8ms/step - accuracy: 0.9475 - loss: 0.1467 - val_accuracy: 0.9663 - val_loss: 0.1030\n",
      "Epoch 27/100\n",
      "\u001b[1m665/665\u001b[0m \u001b[32m━━━━━━━━━━━━━━━━━━━━\u001b[0m\u001b[37m\u001b[0m \u001b[1m10s\u001b[0m 8ms/step - accuracy: 0.9459 - loss: 0.1538 - val_accuracy: 0.9656 - val_loss: 0.1037\n",
      "Epoch 28/100\n",
      "\u001b[1m665/665\u001b[0m \u001b[32m━━━━━━━━━━━━━━━━━━━━\u001b[0m\u001b[37m\u001b[0m \u001b[1m5s\u001b[0m 8ms/step - accuracy: 0.9463 - loss: 0.1500 - val_accuracy: 0.9654 - val_loss: 0.1053\n",
      "Epoch 29/100\n",
      "\u001b[1m665/665\u001b[0m \u001b[32m━━━━━━━━━━━━━━━━━━━━\u001b[0m\u001b[37m\u001b[0m \u001b[1m6s\u001b[0m 9ms/step - accuracy: 0.9503 - loss: 0.1410 - val_accuracy: 0.9684 - val_loss: 0.1002\n",
      "Epoch 30/100\n",
      "\u001b[1m665/665\u001b[0m \u001b[32m━━━━━━━━━━━━━━━━━━━━\u001b[0m\u001b[37m\u001b[0m \u001b[1m5s\u001b[0m 8ms/step - accuracy: 0.9477 - loss: 0.1432 - val_accuracy: 0.9670 - val_loss: 0.1004\n",
      "Epoch 31/100\n",
      "\u001b[1m665/665\u001b[0m \u001b[32m━━━━━━━━━━━━━━━━━━━━\u001b[0m\u001b[37m\u001b[0m \u001b[1m5s\u001b[0m 8ms/step - accuracy: 0.9475 - loss: 0.1505 - val_accuracy: 0.9680 - val_loss: 0.1013\n",
      "Epoch 32/100\n",
      "\u001b[1m665/665\u001b[0m \u001b[32m━━━━━━━━━━━━━━━━━━━━\u001b[0m\u001b[37m\u001b[0m \u001b[1m6s\u001b[0m 9ms/step - accuracy: 0.9468 - loss: 0.1447 - val_accuracy: 0.9677 - val_loss: 0.0990\n",
      "Epoch 33/100\n",
      "\u001b[1m665/665\u001b[0m \u001b[32m━━━━━━━━━━━━━━━━━━━━\u001b[0m\u001b[37m\u001b[0m \u001b[1m5s\u001b[0m 8ms/step - accuracy: 0.9470 - loss: 0.1450 - val_accuracy: 0.9690 - val_loss: 0.0959\n",
      "Epoch 34/100\n",
      "\u001b[1m665/665\u001b[0m \u001b[32m━━━━━━━━━━━━━━━━━━━━\u001b[0m\u001b[37m\u001b[0m \u001b[1m5s\u001b[0m 8ms/step - accuracy: 0.9501 - loss: 0.1379 - val_accuracy: 0.9692 - val_loss: 0.0969\n",
      "Epoch 35/100\n",
      "\u001b[1m665/665\u001b[0m \u001b[32m━━━━━━━━━━━━━━━━━━━━\u001b[0m\u001b[37m\u001b[0m \u001b[1m5s\u001b[0m 8ms/step - accuracy: 0.9523 - loss: 0.1366 - val_accuracy: 0.9696 - val_loss: 0.0945\n",
      "Epoch 36/100\n",
      "\u001b[1m665/665\u001b[0m \u001b[32m━━━━━━━━━━━━━━━━━━━━\u001b[0m\u001b[37m\u001b[0m \u001b[1m5s\u001b[0m 8ms/step - accuracy: 0.9498 - loss: 0.1381 - val_accuracy: 0.9704 - val_loss: 0.0918\n",
      "Epoch 37/100\n",
      "\u001b[1m665/665\u001b[0m \u001b[32m━━━━━━━━━━━━━━━━━━━━\u001b[0m\u001b[37m\u001b[0m \u001b[1m5s\u001b[0m 8ms/step - accuracy: 0.9537 - loss: 0.1286 - val_accuracy: 0.9686 - val_loss: 0.0933\n",
      "Epoch 38/100\n",
      "\u001b[1m665/665\u001b[0m \u001b[32m━━━━━━━━━━━━━━━━━━━━\u001b[0m\u001b[37m\u001b[0m \u001b[1m11s\u001b[0m 8ms/step - accuracy: 0.9524 - loss: 0.1328 - val_accuracy: 0.9703 - val_loss: 0.0944\n",
      "Epoch 39/100\n",
      "\u001b[1m665/665\u001b[0m \u001b[32m━━━━━━━━━━━━━━━━━━━━\u001b[0m\u001b[37m\u001b[0m \u001b[1m6s\u001b[0m 9ms/step - accuracy: 0.9511 - loss: 0.1345 - val_accuracy: 0.9706 - val_loss: 0.0907\n",
      "Epoch 40/100\n",
      "\u001b[1m665/665\u001b[0m \u001b[32m━━━━━━━━━━━━━━━━━━━━\u001b[0m\u001b[37m\u001b[0m \u001b[1m6s\u001b[0m 8ms/step - accuracy: 0.9537 - loss: 0.1340 - val_accuracy: 0.9713 - val_loss: 0.0932\n",
      "Epoch 41/100\n",
      "\u001b[1m665/665\u001b[0m \u001b[32m━━━━━━━━━━━━━━━━━━━━\u001b[0m\u001b[37m\u001b[0m \u001b[1m5s\u001b[0m 8ms/step - accuracy: 0.9513 - loss: 0.1314 - val_accuracy: 0.9719 - val_loss: 0.0912\n",
      "Epoch 42/100\n",
      "\u001b[1m665/665\u001b[0m \u001b[32m━━━━━━━━━━━━━━━━━━━━\u001b[0m\u001b[37m\u001b[0m \u001b[1m10s\u001b[0m 8ms/step - accuracy: 0.9516 - loss: 0.1347 - val_accuracy: 0.9713 - val_loss: 0.0908\n",
      "Epoch 43/100\n",
      "\u001b[1m665/665\u001b[0m \u001b[32m━━━━━━━━━━━━━━━━━━━━\u001b[0m\u001b[37m\u001b[0m \u001b[1m5s\u001b[0m 8ms/step - accuracy: 0.9516 - loss: 0.1345 - val_accuracy: 0.9705 - val_loss: 0.0896\n",
      "Epoch 44/100\n",
      "\u001b[1m665/665\u001b[0m \u001b[32m━━━━━━━━━━━━━━━━━━━━\u001b[0m\u001b[37m\u001b[0m \u001b[1m6s\u001b[0m 8ms/step - accuracy: 0.9527 - loss: 0.1290 - val_accuracy: 0.9682 - val_loss: 0.0937\n",
      "Epoch 45/100\n",
      "\u001b[1m665/665\u001b[0m \u001b[32m━━━━━━━━━━━━━━━━━━━━\u001b[0m\u001b[37m\u001b[0m \u001b[1m10s\u001b[0m 9ms/step - accuracy: 0.9527 - loss: 0.1270 - val_accuracy: 0.9687 - val_loss: 0.0934\n",
      "Epoch 46/100\n",
      "\u001b[1m665/665\u001b[0m \u001b[32m━━━━━━━━━━━━━━━━━━━━\u001b[0m\u001b[37m\u001b[0m \u001b[1m6s\u001b[0m 8ms/step - accuracy: 0.9519 - loss: 0.1274 - val_accuracy: 0.9709 - val_loss: 0.0983\n",
      "Epoch 47/100\n",
      "\u001b[1m665/665\u001b[0m \u001b[32m━━━━━━━━━━━━━━━━━━━━\u001b[0m\u001b[37m\u001b[0m \u001b[1m6s\u001b[0m 8ms/step - accuracy: 0.9533 - loss: 0.1256 - val_accuracy: 0.9687 - val_loss: 0.0935\n",
      "Epoch 48/100\n",
      "\u001b[1m665/665\u001b[0m \u001b[32m━━━━━━━━━━━━━━━━━━━━\u001b[0m\u001b[37m\u001b[0m \u001b[1m5s\u001b[0m 8ms/step - accuracy: 0.9546 - loss: 0.1285 - val_accuracy: 0.9708 - val_loss: 0.0936\n",
      "Epoch 49/100\n",
      "\u001b[1m665/665\u001b[0m \u001b[32m━━━━━━━━━━━━━━━━━━━━\u001b[0m\u001b[37m\u001b[0m \u001b[1m5s\u001b[0m 8ms/step - accuracy: 0.9556 - loss: 0.1252 - val_accuracy: 0.9710 - val_loss: 0.0881\n",
      "Epoch 50/100\n",
      "\u001b[1m665/665\u001b[0m \u001b[32m━━━━━━━━━━━━━━━━━━━━\u001b[0m\u001b[37m\u001b[0m \u001b[1m6s\u001b[0m 8ms/step - accuracy: 0.9574 - loss: 0.1184 - val_accuracy: 0.9715 - val_loss: 0.0879\n",
      "Epoch 51/100\n",
      "\u001b[1m665/665\u001b[0m \u001b[32m━━━━━━━━━━━━━━━━━━━━\u001b[0m\u001b[37m\u001b[0m \u001b[1m5s\u001b[0m 7ms/step - accuracy: 0.9579 - loss: 0.1195 - val_accuracy: 0.9714 - val_loss: 0.0872\n",
      "Epoch 52/100\n",
      "\u001b[1m665/665\u001b[0m \u001b[32m━━━━━━━━━━━━━━━━━━━━\u001b[0m\u001b[37m\u001b[0m \u001b[1m5s\u001b[0m 7ms/step - accuracy: 0.9546 - loss: 0.1244 - val_accuracy: 0.9721 - val_loss: 0.0888\n",
      "Epoch 53/100\n",
      "\u001b[1m665/665\u001b[0m \u001b[32m━━━━━━━━━━━━━━━━━━━━\u001b[0m\u001b[37m\u001b[0m \u001b[1m5s\u001b[0m 7ms/step - accuracy: 0.9567 - loss: 0.1231 - val_accuracy: 0.9723 - val_loss: 0.0866\n",
      "Epoch 54/100\n",
      "\u001b[1m665/665\u001b[0m \u001b[32m━━━━━━━━━━━━━━━━━━━━\u001b[0m\u001b[37m\u001b[0m \u001b[1m5s\u001b[0m 7ms/step - accuracy: 0.9583 - loss: 0.1184 - val_accuracy: 0.9698 - val_loss: 0.0892\n",
      "Epoch 55/100\n",
      "\u001b[1m665/665\u001b[0m \u001b[32m━━━━━━━━━━━━━━━━━━━━\u001b[0m\u001b[37m\u001b[0m \u001b[1m5s\u001b[0m 7ms/step - accuracy: 0.9539 - loss: 0.1232 - val_accuracy: 0.9703 - val_loss: 0.0890\n",
      "Epoch 56/100\n",
      "\u001b[1m665/665\u001b[0m \u001b[32m━━━━━━━━━━━━━━━━━━━━\u001b[0m\u001b[37m\u001b[0m \u001b[1m5s\u001b[0m 8ms/step - accuracy: 0.9568 - loss: 0.1171 - val_accuracy: 0.9710 - val_loss: 0.0856\n",
      "Epoch 57/100\n",
      "\u001b[1m665/665\u001b[0m \u001b[32m━━━━━━━━━━━━━━━━━━━━\u001b[0m\u001b[37m\u001b[0m \u001b[1m5s\u001b[0m 7ms/step - accuracy: 0.9558 - loss: 0.1198 - val_accuracy: 0.9733 - val_loss: 0.0903\n",
      "Epoch 58/100\n",
      "\u001b[1m665/665\u001b[0m \u001b[32m━━━━━━━━━━━━━━━━━━━━\u001b[0m\u001b[37m\u001b[0m \u001b[1m5s\u001b[0m 7ms/step - accuracy: 0.9550 - loss: 0.1225 - val_accuracy: 0.9720 - val_loss: 0.0862\n",
      "Epoch 59/100\n",
      "\u001b[1m665/665\u001b[0m \u001b[32m━━━━━━━━━━━━━━━━━━━━\u001b[0m\u001b[37m\u001b[0m \u001b[1m5s\u001b[0m 8ms/step - accuracy: 0.9575 - loss: 0.1207 - val_accuracy: 0.9735 - val_loss: 0.0854\n",
      "Epoch 60/100\n",
      "\u001b[1m665/665\u001b[0m \u001b[32m━━━━━━━━━━━━━━━━━━━━\u001b[0m\u001b[37m\u001b[0m \u001b[1m5s\u001b[0m 7ms/step - accuracy: 0.9576 - loss: 0.1188 - val_accuracy: 0.9721 - val_loss: 0.0896\n",
      "Epoch 61/100\n",
      "\u001b[1m665/665\u001b[0m \u001b[32m━━━━━━━━━━━━━━━━━━━━\u001b[0m\u001b[37m\u001b[0m \u001b[1m5s\u001b[0m 7ms/step - accuracy: 0.9576 - loss: 0.1209 - val_accuracy: 0.9703 - val_loss: 0.0962\n",
      "Epoch 62/100\n",
      "\u001b[1m665/665\u001b[0m \u001b[32m━━━━━━━━━━━━━━━━━━━━\u001b[0m\u001b[37m\u001b[0m \u001b[1m5s\u001b[0m 8ms/step - accuracy: 0.9585 - loss: 0.1152 - val_accuracy: 0.9720 - val_loss: 0.0852\n",
      "Epoch 63/100\n",
      "\u001b[1m665/665\u001b[0m \u001b[32m━━━━━━━━━━━━━━━━━━━━\u001b[0m\u001b[37m\u001b[0m \u001b[1m5s\u001b[0m 7ms/step - accuracy: 0.9583 - loss: 0.1173 - val_accuracy: 0.9733 - val_loss: 0.0877\n",
      "Epoch 64/100\n",
      "\u001b[1m665/665\u001b[0m \u001b[32m━━━━━━━━━━━━━━━━━━━━\u001b[0m\u001b[37m\u001b[0m \u001b[1m5s\u001b[0m 7ms/step - accuracy: 0.9599 - loss: 0.1109 - val_accuracy: 0.9726 - val_loss: 0.0880\n",
      "Epoch 65/100\n",
      "\u001b[1m665/665\u001b[0m \u001b[32m━━━━━━━━━━━━━━━━━━━━\u001b[0m\u001b[37m\u001b[0m \u001b[1m5s\u001b[0m 7ms/step - accuracy: 0.9575 - loss: 0.1173 - val_accuracy: 0.9734 - val_loss: 0.0846\n",
      "Epoch 66/100\n",
      "\u001b[1m665/665\u001b[0m \u001b[32m━━━━━━━━━━━━━━━━━━━━\u001b[0m\u001b[37m\u001b[0m \u001b[1m6s\u001b[0m 8ms/step - accuracy: 0.9579 - loss: 0.1169 - val_accuracy: 0.9720 - val_loss: 0.0891\n",
      "Epoch 67/100\n",
      "\u001b[1m665/665\u001b[0m \u001b[32m━━━━━━━━━━━━━━━━━━━━\u001b[0m\u001b[37m\u001b[0m \u001b[1m5s\u001b[0m 8ms/step - accuracy: 0.9593 - loss: 0.1125 - val_accuracy: 0.9729 - val_loss: 0.0882\n",
      "Epoch 68/100\n",
      "\u001b[1m665/665\u001b[0m \u001b[32m━━━━━━━━━━━━━━━━━━━━\u001b[0m\u001b[37m\u001b[0m \u001b[1m6s\u001b[0m 8ms/step - accuracy: 0.9586 - loss: 0.1115 - val_accuracy: 0.9729 - val_loss: 0.0894\n",
      "Epoch 69/100\n",
      "\u001b[1m665/665\u001b[0m \u001b[32m━━━━━━━━━━━━━━━━━━━━\u001b[0m\u001b[37m\u001b[0m \u001b[1m5s\u001b[0m 8ms/step - accuracy: 0.9592 - loss: 0.1097 - val_accuracy: 0.9737 - val_loss: 0.0874\n",
      "Epoch 70/100\n",
      "\u001b[1m665/665\u001b[0m \u001b[32m━━━━━━━━━━━━━━━━━━━━\u001b[0m\u001b[37m\u001b[0m \u001b[1m5s\u001b[0m 8ms/step - accuracy: 0.9568 - loss: 0.1182 - val_accuracy: 0.9741 - val_loss: 0.0860\n",
      "Epoch 71/100\n",
      "\u001b[1m665/665\u001b[0m \u001b[32m━━━━━━━━━━━━━━━━━━━━\u001b[0m\u001b[37m\u001b[0m \u001b[1m6s\u001b[0m 8ms/step - accuracy: 0.9597 - loss: 0.1115 - val_accuracy: 0.9730 - val_loss: 0.0863\n",
      "Epoch 72/100\n",
      "\u001b[1m665/665\u001b[0m \u001b[32m━━━━━━━━━━━━━━━━━━━━\u001b[0m\u001b[37m\u001b[0m \u001b[1m6s\u001b[0m 9ms/step - accuracy: 0.9597 - loss: 0.1109 - val_accuracy: 0.9710 - val_loss: 0.0961\n",
      "Epoch 73/100\n",
      "\u001b[1m665/665\u001b[0m \u001b[32m━━━━━━━━━━━━━━━━━━━━\u001b[0m\u001b[37m\u001b[0m \u001b[1m5s\u001b[0m 8ms/step - accuracy: 0.9595 - loss: 0.1135 - val_accuracy: 0.9722 - val_loss: 0.0867\n",
      "Epoch 74/100\n",
      "\u001b[1m665/665\u001b[0m \u001b[32m━━━━━━━━━━━━━━━━━━━━\u001b[0m\u001b[37m\u001b[0m \u001b[1m6s\u001b[0m 9ms/step - accuracy: 0.9582 - loss: 0.1164 - val_accuracy: 0.9722 - val_loss: 0.0901\n",
      "Epoch 75/100\n",
      "\u001b[1m665/665\u001b[0m \u001b[32m━━━━━━━━━━━━━━━━━━━━\u001b[0m\u001b[37m\u001b[0m \u001b[1m6s\u001b[0m 9ms/step - accuracy: 0.9616 - loss: 0.1071 - val_accuracy: 0.9723 - val_loss: 0.0890\n",
      "Epoch 76/100\n",
      "\u001b[1m665/665\u001b[0m \u001b[32m━━━━━━━━━━━━━━━━━━━━\u001b[0m\u001b[37m\u001b[0m \u001b[1m5s\u001b[0m 8ms/step - accuracy: 0.9606 - loss: 0.1073 - val_accuracy: 0.9716 - val_loss: 0.0887\n",
      "Epoch 77/100\n",
      "\u001b[1m665/665\u001b[0m \u001b[32m━━━━━━━━━━━━━━━━━━━━\u001b[0m\u001b[37m\u001b[0m \u001b[1m6s\u001b[0m 9ms/step - accuracy: 0.9589 - loss: 0.1124 - val_accuracy: 0.9729 - val_loss: 0.0866\n",
      "Epoch 78/100\n",
      "\u001b[1m665/665\u001b[0m \u001b[32m━━━━━━━━━━━━━━━━━━━━\u001b[0m\u001b[37m\u001b[0m \u001b[1m5s\u001b[0m 8ms/step - accuracy: 0.9621 - loss: 0.1058 - val_accuracy: 0.9710 - val_loss: 0.0877\n",
      "Epoch 79/100\n",
      "\u001b[1m665/665\u001b[0m \u001b[32m━━━━━━━━━━━━━━━━━━━━\u001b[0m\u001b[37m\u001b[0m \u001b[1m5s\u001b[0m 8ms/step - accuracy: 0.9604 - loss: 0.1101 - val_accuracy: 0.9747 - val_loss: 0.0864\n",
      "Epoch 80/100\n",
      "\u001b[1m665/665\u001b[0m \u001b[32m━━━━━━━━━━━━━━━━━━━━\u001b[0m\u001b[37m\u001b[0m \u001b[1m10s\u001b[0m 8ms/step - accuracy: 0.9620 - loss: 0.1055 - val_accuracy: 0.9725 - val_loss: 0.0867\n",
      "Epoch 81/100\n",
      "\u001b[1m665/665\u001b[0m \u001b[32m━━━━━━━━━━━━━━━━━━━━\u001b[0m\u001b[37m\u001b[0m \u001b[1m5s\u001b[0m 8ms/step - accuracy: 0.9635 - loss: 0.1030 - val_accuracy: 0.9735 - val_loss: 0.0863\n",
      "Epoch 82/100\n",
      "\u001b[1m665/665\u001b[0m \u001b[32m━━━━━━━━━━━━━━━━━━━━\u001b[0m\u001b[37m\u001b[0m \u001b[1m6s\u001b[0m 9ms/step - accuracy: 0.9623 - loss: 0.1061 - val_accuracy: 0.9720 - val_loss: 0.0855\n",
      "Epoch 83/100\n",
      "\u001b[1m665/665\u001b[0m \u001b[32m━━━━━━━━━━━━━━━━━━━━\u001b[0m\u001b[37m\u001b[0m \u001b[1m5s\u001b[0m 8ms/step - accuracy: 0.9621 - loss: 0.1058 - val_accuracy: 0.9734 - val_loss: 0.0890\n",
      "Epoch 84/100\n",
      "\u001b[1m665/665\u001b[0m \u001b[32m━━━━━━━━━━━━━━━━━━━━\u001b[0m\u001b[37m\u001b[0m \u001b[1m11s\u001b[0m 9ms/step - accuracy: 0.9629 - loss: 0.1036 - val_accuracy: 0.9744 - val_loss: 0.0858\n",
      "Epoch 85/100\n",
      "\u001b[1m665/665\u001b[0m \u001b[32m━━━━━━━━━━━━━━━━━━━━\u001b[0m\u001b[37m\u001b[0m \u001b[1m10s\u001b[0m 8ms/step - accuracy: 0.9625 - loss: 0.1069 - val_accuracy: 0.9754 - val_loss: 0.0860\n",
      "Epoch 86/100\n",
      "\u001b[1m665/665\u001b[0m \u001b[32m━━━━━━━━━━━━━━━━━━━━\u001b[0m\u001b[37m\u001b[0m \u001b[1m6s\u001b[0m 8ms/step - accuracy: 0.9620 - loss: 0.1070 - val_accuracy: 0.9740 - val_loss: 0.0841\n",
      "Epoch 87/100\n",
      "\u001b[1m665/665\u001b[0m \u001b[32m━━━━━━━━━━━━━━━━━━━━\u001b[0m\u001b[37m\u001b[0m \u001b[1m10s\u001b[0m 8ms/step - accuracy: 0.9631 - loss: 0.1027 - val_accuracy: 0.9743 - val_loss: 0.0872\n",
      "Epoch 88/100\n",
      "\u001b[1m665/665\u001b[0m \u001b[32m━━━━━━━━━━━━━━━━━━━━\u001b[0m\u001b[37m\u001b[0m \u001b[1m6s\u001b[0m 9ms/step - accuracy: 0.9605 - loss: 0.1092 - val_accuracy: 0.9759 - val_loss: 0.0796\n",
      "Epoch 89/100\n",
      "\u001b[1m665/665\u001b[0m \u001b[32m━━━━━━━━━━━━━━━━━━━━\u001b[0m\u001b[37m\u001b[0m \u001b[1m5s\u001b[0m 8ms/step - accuracy: 0.9617 - loss: 0.1067 - val_accuracy: 0.9747 - val_loss: 0.0883\n",
      "Epoch 90/100\n",
      "\u001b[1m665/665\u001b[0m \u001b[32m━━━━━━━━━━━━━━━━━━━━\u001b[0m\u001b[37m\u001b[0m \u001b[1m6s\u001b[0m 8ms/step - accuracy: 0.9625 - loss: 0.1010 - val_accuracy: 0.9752 - val_loss: 0.0830\n",
      "Epoch 91/100\n",
      "\u001b[1m665/665\u001b[0m \u001b[32m━━━━━━━━━━━━━━━━━━━━\u001b[0m\u001b[37m\u001b[0m \u001b[1m6s\u001b[0m 9ms/step - accuracy: 0.9626 - loss: 0.1024 - val_accuracy: 0.9759 - val_loss: 0.0819\n",
      "Epoch 92/100\n",
      "\u001b[1m665/665\u001b[0m \u001b[32m━━━━━━━━━━━━━━━━━━━━\u001b[0m\u001b[37m\u001b[0m \u001b[1m5s\u001b[0m 8ms/step - accuracy: 0.9615 - loss: 0.1054 - val_accuracy: 0.9760 - val_loss: 0.0847\n",
      "Epoch 93/100\n",
      "\u001b[1m665/665\u001b[0m \u001b[32m━━━━━━━━━━━━━━━━━━━━\u001b[0m\u001b[37m\u001b[0m \u001b[1m5s\u001b[0m 8ms/step - accuracy: 0.9664 - loss: 0.0945 - val_accuracy: 0.9741 - val_loss: 0.0863\n",
      "Epoch 94/100\n",
      "\u001b[1m665/665\u001b[0m \u001b[32m━━━━━━━━━━━━━━━━━━━━\u001b[0m\u001b[37m\u001b[0m \u001b[1m6s\u001b[0m 9ms/step - accuracy: 0.9627 - loss: 0.1069 - val_accuracy: 0.9735 - val_loss: 0.0848\n",
      "Epoch 95/100\n",
      "\u001b[1m665/665\u001b[0m \u001b[32m━━━━━━━━━━━━━━━━━━━━\u001b[0m\u001b[37m\u001b[0m \u001b[1m10s\u001b[0m 8ms/step - accuracy: 0.9634 - loss: 0.1015 - val_accuracy: 0.9760 - val_loss: 0.0816\n",
      "Epoch 96/100\n",
      "\u001b[1m665/665\u001b[0m \u001b[32m━━━━━━━━━━━━━━━━━━━━\u001b[0m\u001b[37m\u001b[0m \u001b[1m6s\u001b[0m 9ms/step - accuracy: 0.9626 - loss: 0.1048 - val_accuracy: 0.9758 - val_loss: 0.0838\n",
      "Epoch 97/100\n",
      "\u001b[1m665/665\u001b[0m \u001b[32m━━━━━━━━━━━━━━━━━━━━\u001b[0m\u001b[37m\u001b[0m \u001b[1m10s\u001b[0m 8ms/step - accuracy: 0.9639 - loss: 0.1054 - val_accuracy: 0.9750 - val_loss: 0.0825\n",
      "Epoch 98/100\n",
      "\u001b[1m665/665\u001b[0m \u001b[32m━━━━━━━━━━━━━━━━━━━━\u001b[0m\u001b[37m\u001b[0m \u001b[1m6s\u001b[0m 9ms/step - accuracy: 0.9644 - loss: 0.1000 - val_accuracy: 0.9731 - val_loss: 0.0868\n",
      "Epoch 99/100\n",
      "\u001b[1m665/665\u001b[0m \u001b[32m━━━━━━━━━━━━━━━━━━━━\u001b[0m\u001b[37m\u001b[0m \u001b[1m6s\u001b[0m 9ms/step - accuracy: 0.9621 - loss: 0.1036 - val_accuracy: 0.9756 - val_loss: 0.0796\n",
      "Epoch 100/100\n",
      "\u001b[1m665/665\u001b[0m \u001b[32m━━━━━━━━━━━━━━━━━━━━\u001b[0m\u001b[37m\u001b[0m \u001b[1m6s\u001b[0m 8ms/step - accuracy: 0.9644 - loss: 0.1023 - val_accuracy: 0.9752 - val_loss: 0.0854\n"
     ]
    }
   ],
   "source": [
    "history = model.fit(X_train, y_train_cat,\n",
    "                    epochs=100,\n",
    "                    batch_size=64,\n",
    "                    validation_data=(X_test, y_test_cat))\n"
   ]
  },
  {
   "cell_type": "code",
   "execution_count": 59,
   "id": "160e143e",
   "metadata": {
    "scrolled": true
   },
   "outputs": [
    {
     "data": {
      "image/png": "[encoded data removed]",
      "text/plain": [
       "<Figure size 864x360 with 2 Axes>"
      ]
     },
     "metadata": {
      "needs_background": "light"
     },
     "output_type": "display_data"
    }
   ],
   "source": [
    "import matplotlib.pyplot as plt\n",
    "\n",
    "plt.figure(figsize=(12, 5))\n",
    "\n",
    "plt.subplot(1, 2, 1)\n",
    "plt.plot(history.history['accuracy'], label='Train Acc')\n",
    "plt.plot(history.history['val_accuracy'], label='Val Acc')\n",
    "plt.title('Model Accuracy')\n",
    "plt.xlabel('Epoch')\n",
    "plt.ylabel('Accuracy')\n",
    "plt.legend()\n",
    "\n",
    "plt.subplot(1, 2, 2)\n",
    "plt.plot(history.history['loss'], label='Train Loss')\n",
    "plt.plot(history.history['val_loss'], label='Val Loss')\n",
    "plt.title('Model Loss')\n",
    "plt.xlabel('Epoch')\n",
    "plt.ylabel('Loss')\n",
    "plt.legend()\n",
    "\n",
    "plt.tight_layout()\n",
    "plt.show()\n"
   ]
  },
  {
   "cell_type": "code",
   "execution_count": 63,
   "id": "03890ddc",
   "metadata": {},
   "outputs": [
    {
     "name": "stdout",
     "output_type": "stream",
     "text": [
      "\u001b[1m333/333\u001b[0m \u001b[32m━━━━━━━━━━━━━━━━━━━━\u001b[0m\u001b[37m\u001b[0m \u001b[1m1s\u001b[0m 2ms/step\n",
      "(10638, 6)\n"
     ]
    }
   ],
   "source": [
    "y_predic= model.predict(X_test)\n",
    "\n",
    "print(y_predic.shape)\n"
   ]
  },
  {
   "cell_type": "code",
   "execution_count": 62,
   "id": "ace689b3",
   "metadata": {},
   "outputs": [
    {
     "name": "stdout",
     "output_type": "stream",
     "text": [
      "(10638, 6)\n"
     ]
    }
   ],
   "source": [
    "print(y_test_cat.shape)"
   ]
  },
  {
   "cell_type": "code",
   "execution_count": 68,
   "id": "f0cd180f",
   "metadata": {},
   "outputs": [
    {
     "name": "stdout",
     "output_type": "stream",
     "text": [
      "0.0066677948366096924\n"
     ]
    }
   ],
   "source": [
    "\n",
    "\n",
    "from sklearn.metrics import mean_squared_error\n",
    "\n",
    "mse = mean_squared_error(y_test_cat, y_predic)\n",
    "print(mse)\n"
   ]
  },
  {
   "cell_type": "code",
   "execution_count": 70,
   "id": "944edfe1",
   "metadata": {},
   "outputs": [
    {
     "name": "stdout",
     "output_type": "stream",
     "text": [
      "\u001b[1m333/333\u001b[0m \u001b[32m━━━━━━━━━━━━━━━━━━━━\u001b[0m\u001b[37m\u001b[0m \u001b[1m1s\u001b[0m 3ms/step - accuracy: 0.9742 - loss: 0.0916\n"
     ]
    }
   ],
   "source": [
    "mse = model.evaluate(X_test, y_test_cat)\n"
   ]
  },
  {
   "cell_type": "code",
   "execution_count": 32,
   "id": "50c7e591",
   "metadata": {},
   "outputs": [
    {
     "name": "stdout",
     "output_type": "stream",
     "text": [
      "[[5.66343172e-03 5.85706555e-04 1.62204706e-20 0.00000000e+00\n",
      "  9.75006402e-01 1.87444482e-02]\n",
      " [2.51051175e-30 0.00000000e+00 1.00000000e+00 0.00000000e+00\n",
      "  9.22783612e-24 3.16225918e-31]\n",
      " [6.70399901e-19 1.68373804e-09 3.80313917e-38 0.00000000e+00\n",
      "  2.08413661e-10 1.00000000e+00]\n",
      " ...\n",
      " [9.13072610e-04 1.14525879e-04 6.81265529e-16 1.72882963e-30\n",
      "  4.55396846e-02 9.53432739e-01]\n",
      " [9.00544546e-05 1.02713315e-07 5.15001826e-03 9.92675841e-01\n",
      "  2.06339569e-03 2.05816414e-05]\n",
      " [4.76668938e-04 2.17065789e-07 1.24162210e-24 0.00000000e+00\n",
      "  1.21857738e-04 9.99401212e-01]]\n"
     ]
    }
   ],
   "source": [
    "y_predic = np.array(y_predic)\n",
    "print(y_predic)"
   ]
  },
  {
   "cell_type": "code",
   "execution_count": 72,
   "id": "3bcf4331",
   "metadata": {},
   "outputs": [
    {
     "name": "stdout",
     "output_type": "stream",
     "text": [
      "[4 2 5 ... 5 3 5]\n"
     ]
    }
   ],
   "source": [
    "import numpy as np\n",
    "\n",
    "y_pred_labels = np.argmax(y_predic, axis=1)\n",
    "print(y_pred_labels)"
   ]
  },
  {
   "cell_type": "code",
   "execution_count": 75,
   "id": "dd755b5c",
   "metadata": {},
   "outputs": [
    {
     "name": "stdout",
     "output_type": "stream",
     "text": [
      "INFO:tensorflow:Assets written to: C:\\Users\\SHEYDA~1\\AppData\\Local\\Temp\\tmphcrmn_jn\\assets\n"
     ]
    },
    {
     "name": "stderr",
     "output_type": "stream",
     "text": [
      "INFO:tensorflow:Assets written to: C:\\Users\\SHEYDA~1\\AppData\\Local\\Temp\\tmphcrmn_jn\\assets\n"
     ]
    },
    {
     "name": "stdout",
     "output_type": "stream",
     "text": [
      "Saved artifact at 'C:\\Users\\SHEYDA~1\\AppData\\Local\\Temp\\tmphcrmn_jn'. The following endpoints are available:\n",
      "\n",
      "* Endpoint 'serve'\n",
      "  args_0 (POSITIONAL_ONLY): TensorSpec(shape=(None, 60, 4), dtype=tf.float32, name='keras_tensor_58')\n",
      "Output Type:\n",
      "  TensorSpec(shape=(None, 6), dtype=tf.float32, name=None)\n",
      "Captures:\n",
      "  2407281637856: TensorSpec(shape=(), dtype=tf.resource, name=None)\n",
      "  2407281637504: TensorSpec(shape=(), dtype=tf.resource, name=None)\n",
      "  2407311758080: TensorSpec(shape=(), dtype=tf.resource, name=None)\n",
      "  2407341792768: TensorSpec(shape=(), dtype=tf.resource, name=None)\n",
      "  2407278615888: TensorSpec(shape=(), dtype=tf.resource, name=None)\n",
      "  2407453467392: TensorSpec(shape=(), dtype=tf.resource, name=None)\n"
     ]
    }
   ],
   "source": [
    "converter = tf.lite.TFLiteConverter.from_keras_model(model)\n",
    "tflite_model = converter.convert()\n",
    "\n",
    "with open(\"activity_model.tflite\", \"wb\") as f:\n",
    "    f.write(tflite_model)\n"
   ]
  },
  {
   "cell_type": "code",
   "execution_count": 83,
   "id": "a495b1b1",
   "metadata": {},
   "outputs": [
    {
     "name": "stdout",
     "output_type": "stream",
     "text": [
      "Predicted probabilities: [[3.4675428e-30 0.0000000e+00 1.0000000e+00 0.0000000e+00 3.1364559e-22\n",
      "  8.2773904e-33]]\n",
      "Predicted class: 2\n"
     ]
    }
   ],
   "source": [
    "interpreter = tf.lite.Interpreter(model_path=\"activity_model.tflite\")\n",
    "interpreter.allocate_tensors()\n",
    "\n",
    "input_details = interpreter.get_input_details()\n",
    "output_details = interpreter.get_output_details()\n",
    "\n",
    "sample_input = X_test[1:2].astype(np.float32) \n",
    "\n",
    "interpreter.set_tensor(input_details[0]['index'], sample_input)\n",
    "interpreter.invoke()\n",
    "output = interpreter.get_tensor(output_details[0]['index'])\n",
    "\n",
    "print(\"Predicted probabilities:\", output)\n",
    "print(\"Predicted class:\", np.argmax(output))\n"
   ]
  },
  {
   "cell_type": "code",
   "execution_count": 84,
   "id": "d6b80d19",
   "metadata": {},
   "outputs": [
    {
     "data": {
      "text/plain": [
       "array([[0., 0., 1., 0., 0., 0.]])"
      ]
     },
     "execution_count": 84,
     "metadata": {},
     "output_type": "execute_result"
    }
   ],
   "source": [
    "y_test_cat[1:2]"
   ]
  },
  {
   "cell_type": "code",
   "execution_count": null,
   "id": "50c1920b",
   "metadata": {},
   "outputs": [],
   "source": []
  }
 ],
 "metadata": {
  "kernelspec": {
   "display_name": "Python 3 (ipykernel)",
   "language": "python",
   "name": "python3"
  },
  "language_info": {
   "codemirror_mode": {
    "name": "ipython",
    "version": 3
   },
   "file_extension": ".py",
   "mimetype": "text/x-python",
   "name": "python",
   "nbconvert_exporter": "python",
   "pygments_lexer": "ipython3",
   "version": "3.9.7"
  }
 },
 "nbformat": 4,
 "nbformat_minor": 5
}
